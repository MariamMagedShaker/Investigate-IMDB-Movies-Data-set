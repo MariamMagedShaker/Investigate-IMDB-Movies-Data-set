{
 "cells": [
  {
   "cell_type": "markdown",
   "metadata": {},
   "source": [
    "# Project: Investigate IMDB Movies Data set\n",
    "\n",
    "## Table of Contents\n",
    "<ul>\n",
    "<li><a href=\"#intro\">Introduction</a></li>\n",
    "<li><a href=\"#wrangling\">Data Wrangling</a></li>\n",
    "<li><a href=\"#eda\">Exploratory Data Analysis</a></li>\n",
    "<li><a href=\"#conclusions\">Conclusions</a></li>\n",
    "</ul>"
   ]
  },
  {
   "cell_type": "markdown",
   "metadata": {},
   "source": [
    "<a id='intro'></a>\n",
    "## Introduction\n",
    "\n",
    "<p>my data set is about movies across some years <br>\n",
    "    and another dataset is  about credits data  and i will go through both of them <br>\n",
    "    and merge them to answer some questions about movies and their rvenues</p>\n",
    "<h6>Question 1:Which genres are most popular from year to year?</h6>\n",
    "<h6>Question 2:What kinds of properties are associated with movies that have high revenues?</h6>\n"
   ]
  },
  {
   "cell_type": "code",
   "execution_count": 1,
   "metadata": {},
   "outputs": [],
   "source": [
    "import pandas as pd\n",
    "import json\n",
    "import matplotlib.pyplot as plt\n",
    "%matplotlib inline\n",
    "import numpy as np"
   ]
  },
  {
   "cell_type": "markdown",
   "metadata": {},
   "source": [
    "<a id='wrangling'></a>\n",
    "## Data Wrangling\n",
    "\n",
    "### General Properties\n"
   ]
  },
  {
   "cell_type": "markdown",
   "metadata": {},
   "source": [
    "### First, I will load credits data and go through it "
   ]
  },
  {
   "cell_type": "code",
   "execution_count": 2,
   "metadata": {},
   "outputs": [
    {
     "data": {
      "text/html": [
       "<div>\n",
       "<style scoped>\n",
       "    .dataframe tbody tr th:only-of-type {\n",
       "        vertical-align: middle;\n",
       "    }\n",
       "\n",
       "    .dataframe tbody tr th {\n",
       "        vertical-align: top;\n",
       "    }\n",
       "\n",
       "    .dataframe thead th {\n",
       "        text-align: right;\n",
       "    }\n",
       "</style>\n",
       "<table border=\"1\" class=\"dataframe\">\n",
       "  <thead>\n",
       "    <tr style=\"text-align: right;\">\n",
       "      <th></th>\n",
       "      <th>movie_id</th>\n",
       "      <th>title</th>\n",
       "      <th>cast</th>\n",
       "      <th>crew</th>\n",
       "    </tr>\n",
       "  </thead>\n",
       "  <tbody>\n",
       "    <tr>\n",
       "      <td>0</td>\n",
       "      <td>19995</td>\n",
       "      <td>Avatar</td>\n",
       "      <td>[{\"cast_id\": 242, \"character\": \"Jake Sully\", \"...</td>\n",
       "      <td>[{\"credit_id\": \"52fe48009251416c750aca23\", \"de...</td>\n",
       "    </tr>\n",
       "    <tr>\n",
       "      <td>1</td>\n",
       "      <td>285</td>\n",
       "      <td>Pirates of the Caribbean: At World's End</td>\n",
       "      <td>[{\"cast_id\": 4, \"character\": \"Captain Jack Spa...</td>\n",
       "      <td>[{\"credit_id\": \"52fe4232c3a36847f800b579\", \"de...</td>\n",
       "    </tr>\n",
       "    <tr>\n",
       "      <td>2</td>\n",
       "      <td>206647</td>\n",
       "      <td>Spectre</td>\n",
       "      <td>[{\"cast_id\": 1, \"character\": \"James Bond\", \"cr...</td>\n",
       "      <td>[{\"credit_id\": \"54805967c3a36829b5002c41\", \"de...</td>\n",
       "    </tr>\n",
       "    <tr>\n",
       "      <td>3</td>\n",
       "      <td>49026</td>\n",
       "      <td>The Dark Knight Rises</td>\n",
       "      <td>[{\"cast_id\": 2, \"character\": \"Bruce Wayne / Ba...</td>\n",
       "      <td>[{\"credit_id\": \"52fe4781c3a36847f81398c3\", \"de...</td>\n",
       "    </tr>\n",
       "    <tr>\n",
       "      <td>4</td>\n",
       "      <td>49529</td>\n",
       "      <td>John Carter</td>\n",
       "      <td>[{\"cast_id\": 5, \"character\": \"John Carter\", \"c...</td>\n",
       "      <td>[{\"credit_id\": \"52fe479ac3a36847f813eaa3\", \"de...</td>\n",
       "    </tr>\n",
       "  </tbody>\n",
       "</table>\n",
       "</div>"
      ],
      "text/plain": [
       "   movie_id                                     title  \\\n",
       "0     19995                                    Avatar   \n",
       "1       285  Pirates of the Caribbean: At World's End   \n",
       "2    206647                                   Spectre   \n",
       "3     49026                     The Dark Knight Rises   \n",
       "4     49529                               John Carter   \n",
       "\n",
       "                                                cast  \\\n",
       "0  [{\"cast_id\": 242, \"character\": \"Jake Sully\", \"...   \n",
       "1  [{\"cast_id\": 4, \"character\": \"Captain Jack Spa...   \n",
       "2  [{\"cast_id\": 1, \"character\": \"James Bond\", \"cr...   \n",
       "3  [{\"cast_id\": 2, \"character\": \"Bruce Wayne / Ba...   \n",
       "4  [{\"cast_id\": 5, \"character\": \"John Carter\", \"c...   \n",
       "\n",
       "                                                crew  \n",
       "0  [{\"credit_id\": \"52fe48009251416c750aca23\", \"de...  \n",
       "1  [{\"credit_id\": \"52fe4232c3a36847f800b579\", \"de...  \n",
       "2  [{\"credit_id\": \"54805967c3a36829b5002c41\", \"de...  \n",
       "3  [{\"credit_id\": \"52fe4781c3a36847f81398c3\", \"de...  \n",
       "4  [{\"credit_id\": \"52fe479ac3a36847f813eaa3\", \"de...  "
      ]
     },
     "execution_count": 2,
     "metadata": {},
     "output_type": "execute_result"
    }
   ],
   "source": [
    "#load credits data and see first five rows\n",
    "credits=pd.read_csv(\"tmdb_5000_credits.csv\")\n",
    "credits.head()"
   ]
  },
  {
   "cell_type": "code",
   "execution_count": 3,
   "metadata": {},
   "outputs": [
    {
     "data": {
      "text/plain": [
       "(4803, 4)"
      ]
     },
     "execution_count": 3,
     "metadata": {},
     "output_type": "execute_result"
    }
   ],
   "source": [
    "#the shape of credits_data\n",
    "credits.shape"
   ]
  },
  {
   "cell_type": "code",
   "execution_count": 4,
   "metadata": {},
   "outputs": [
    {
     "name": "stdout",
     "output_type": "stream",
     "text": [
      "<class 'pandas.core.frame.DataFrame'>\n",
      "RangeIndex: 4803 entries, 0 to 4802\n",
      "Data columns (total 4 columns):\n",
      "movie_id    4803 non-null int64\n",
      "title       4803 non-null object\n",
      "cast        4803 non-null object\n",
      "crew        4803 non-null object\n",
      "dtypes: int64(1), object(3)\n",
      "memory usage: 150.2+ KB\n"
     ]
    }
   ],
   "source": [
    "#finding the data types of columns\n",
    "#see if there is any null value\n",
    "credits.info()"
   ]
  },
  {
   "cell_type": "code",
   "execution_count": 5,
   "metadata": {},
   "outputs": [
    {
     "data": {
      "text/plain": [
       "False    4803\n",
       "dtype: int64"
      ]
     },
     "execution_count": 5,
     "metadata": {},
     "output_type": "execute_result"
    }
   ],
   "source": [
    "#see if there is any duplicated data\n",
    "credits.duplicated().value_counts()"
   ]
  },
  {
   "cell_type": "markdown",
   "metadata": {},
   "source": [
    "<h3> A little overview of credits_data</h3>\n",
    "<p>After looking on the data in the important columns which are <br>\n",
    "    [\"cast\",\"crew\"] they are in json object <br>\n",
    "    so we need to load them to understand their data</p>"
   ]
  },
  {
   "cell_type": "markdown",
   "metadata": {},
   "source": [
    "<h4>go through json objects in credits_data</h4>"
   ]
  },
  {
   "cell_type": "code",
   "execution_count": 6,
   "metadata": {},
   "outputs": [
    {
     "data": {
      "text/plain": [
       "{'cast_id': 242,\n",
       " 'character': 'Jake Sully',\n",
       " 'credit_id': '5602a8a7c3a3685532001c9a',\n",
       " 'gender': 2,\n",
       " 'id': 65731,\n",
       " 'name': 'Sam Worthington',\n",
       " 'order': 0}"
      ]
     },
     "execution_count": 6,
     "metadata": {},
     "output_type": "execute_result"
    }
   ],
   "source": [
    "#the first json object in \"cast\" column\n",
    "cast=json.loads(credits['cast'][0])\n",
    "cast[0]"
   ]
  },
  {
   "cell_type": "code",
   "execution_count": 7,
   "metadata": {},
   "outputs": [
    {
     "data": {
      "text/plain": [
       "{'credit_id': '52fe48009251416c750aca23',\n",
       " 'department': 'Editing',\n",
       " 'gender': 0,\n",
       " 'id': 1721,\n",
       " 'job': 'Editor',\n",
       " 'name': 'Stephen E. Rivkin'}"
      ]
     },
     "execution_count": 7,
     "metadata": {},
     "output_type": "execute_result"
    }
   ],
   "source": [
    "#the first json object in \"crew\" column\n",
    "crew=json.loads(credits['crew'][0])\n",
    "crew[0]"
   ]
  },
  {
   "cell_type": "markdown",
   "metadata": {},
   "source": [
    "<h3>Decision on json obects in [\"cast\",\"crew\"] in credits_data</h3>\n",
    "<p>after seeing those json object,I decided to ignore the crew data<br>\n",
    "    and use the json objects in cast column to get the gender of the cast</p>"
   ]
  },
  {
   "cell_type": "markdown",
   "metadata": {},
   "source": [
    "### second I will load movies data and go through it "
   ]
  },
  {
   "cell_type": "code",
   "execution_count": 8,
   "metadata": {},
   "outputs": [
    {
     "data": {
      "text/html": [
       "<div>\n",
       "<style scoped>\n",
       "    .dataframe tbody tr th:only-of-type {\n",
       "        vertical-align: middle;\n",
       "    }\n",
       "\n",
       "    .dataframe tbody tr th {\n",
       "        vertical-align: top;\n",
       "    }\n",
       "\n",
       "    .dataframe thead th {\n",
       "        text-align: right;\n",
       "    }\n",
       "</style>\n",
       "<table border=\"1\" class=\"dataframe\">\n",
       "  <thead>\n",
       "    <tr style=\"text-align: right;\">\n",
       "      <th></th>\n",
       "      <th>budget</th>\n",
       "      <th>genres</th>\n",
       "      <th>homepage</th>\n",
       "      <th>id</th>\n",
       "      <th>keywords</th>\n",
       "      <th>original_language</th>\n",
       "      <th>original_title</th>\n",
       "      <th>overview</th>\n",
       "      <th>popularity</th>\n",
       "      <th>production_companies</th>\n",
       "      <th>production_countries</th>\n",
       "      <th>release_date</th>\n",
       "      <th>revenue</th>\n",
       "      <th>runtime</th>\n",
       "      <th>spoken_languages</th>\n",
       "      <th>status</th>\n",
       "      <th>tagline</th>\n",
       "      <th>title</th>\n",
       "      <th>vote_average</th>\n",
       "      <th>vote_count</th>\n",
       "    </tr>\n",
       "  </thead>\n",
       "  <tbody>\n",
       "    <tr>\n",
       "      <td>0</td>\n",
       "      <td>237000000</td>\n",
       "      <td>[{\"id\": 28, \"name\": \"Action\"}, {\"id\": 12, \"nam...</td>\n",
       "      <td>http://www.avatarmovie.com/</td>\n",
       "      <td>19995</td>\n",
       "      <td>[{\"id\": 1463, \"name\": \"culture clash\"}, {\"id\":...</td>\n",
       "      <td>en</td>\n",
       "      <td>Avatar</td>\n",
       "      <td>In the 22nd century, a paraplegic Marine is di...</td>\n",
       "      <td>150.437577</td>\n",
       "      <td>[{\"name\": \"Ingenious Film Partners\", \"id\": 289...</td>\n",
       "      <td>[{\"iso_3166_1\": \"US\", \"name\": \"United States o...</td>\n",
       "      <td>2009-12-10</td>\n",
       "      <td>2787965087</td>\n",
       "      <td>162.0</td>\n",
       "      <td>[{\"iso_639_1\": \"en\", \"name\": \"English\"}, {\"iso...</td>\n",
       "      <td>Released</td>\n",
       "      <td>Enter the World of Pandora.</td>\n",
       "      <td>Avatar</td>\n",
       "      <td>7.2</td>\n",
       "      <td>11800</td>\n",
       "    </tr>\n",
       "    <tr>\n",
       "      <td>1</td>\n",
       "      <td>300000000</td>\n",
       "      <td>[{\"id\": 12, \"name\": \"Adventure\"}, {\"id\": 14, \"...</td>\n",
       "      <td>http://disney.go.com/disneypictures/pirates/</td>\n",
       "      <td>285</td>\n",
       "      <td>[{\"id\": 270, \"name\": \"ocean\"}, {\"id\": 726, \"na...</td>\n",
       "      <td>en</td>\n",
       "      <td>Pirates of the Caribbean: At World's End</td>\n",
       "      <td>Captain Barbossa, long believed to be dead, ha...</td>\n",
       "      <td>139.082615</td>\n",
       "      <td>[{\"name\": \"Walt Disney Pictures\", \"id\": 2}, {\"...</td>\n",
       "      <td>[{\"iso_3166_1\": \"US\", \"name\": \"United States o...</td>\n",
       "      <td>2007-05-19</td>\n",
       "      <td>961000000</td>\n",
       "      <td>169.0</td>\n",
       "      <td>[{\"iso_639_1\": \"en\", \"name\": \"English\"}]</td>\n",
       "      <td>Released</td>\n",
       "      <td>At the end of the world, the adventure begins.</td>\n",
       "      <td>Pirates of the Caribbean: At World's End</td>\n",
       "      <td>6.9</td>\n",
       "      <td>4500</td>\n",
       "    </tr>\n",
       "  </tbody>\n",
       "</table>\n",
       "</div>"
      ],
      "text/plain": [
       "      budget                                             genres  \\\n",
       "0  237000000  [{\"id\": 28, \"name\": \"Action\"}, {\"id\": 12, \"nam...   \n",
       "1  300000000  [{\"id\": 12, \"name\": \"Adventure\"}, {\"id\": 14, \"...   \n",
       "\n",
       "                                       homepage     id  \\\n",
       "0                   http://www.avatarmovie.com/  19995   \n",
       "1  http://disney.go.com/disneypictures/pirates/    285   \n",
       "\n",
       "                                            keywords original_language  \\\n",
       "0  [{\"id\": 1463, \"name\": \"culture clash\"}, {\"id\":...                en   \n",
       "1  [{\"id\": 270, \"name\": \"ocean\"}, {\"id\": 726, \"na...                en   \n",
       "\n",
       "                             original_title  \\\n",
       "0                                    Avatar   \n",
       "1  Pirates of the Caribbean: At World's End   \n",
       "\n",
       "                                            overview  popularity  \\\n",
       "0  In the 22nd century, a paraplegic Marine is di...  150.437577   \n",
       "1  Captain Barbossa, long believed to be dead, ha...  139.082615   \n",
       "\n",
       "                                production_companies  \\\n",
       "0  [{\"name\": \"Ingenious Film Partners\", \"id\": 289...   \n",
       "1  [{\"name\": \"Walt Disney Pictures\", \"id\": 2}, {\"...   \n",
       "\n",
       "                                production_countries release_date     revenue  \\\n",
       "0  [{\"iso_3166_1\": \"US\", \"name\": \"United States o...   2009-12-10  2787965087   \n",
       "1  [{\"iso_3166_1\": \"US\", \"name\": \"United States o...   2007-05-19   961000000   \n",
       "\n",
       "   runtime                                   spoken_languages    status  \\\n",
       "0    162.0  [{\"iso_639_1\": \"en\", \"name\": \"English\"}, {\"iso...  Released   \n",
       "1    169.0           [{\"iso_639_1\": \"en\", \"name\": \"English\"}]  Released   \n",
       "\n",
       "                                          tagline  \\\n",
       "0                     Enter the World of Pandora.   \n",
       "1  At the end of the world, the adventure begins.   \n",
       "\n",
       "                                      title  vote_average  vote_count  \n",
       "0                                    Avatar           7.2       11800  \n",
       "1  Pirates of the Caribbean: At World's End           6.9        4500  "
      ]
     },
     "execution_count": 8,
     "metadata": {},
     "output_type": "execute_result"
    }
   ],
   "source": [
    "#load movies data and see first five rows\n",
    "df_m=pd.read_csv(\"tmdb_5000_movies.csv\")\n",
    "df_m.head(2)\n"
   ]
  },
  {
   "cell_type": "code",
   "execution_count": 9,
   "metadata": {},
   "outputs": [
    {
     "data": {
      "text/plain": [
       "(4803, 20)"
      ]
     },
     "execution_count": 9,
     "metadata": {},
     "output_type": "execute_result"
    }
   ],
   "source": [
    "#the shape of credits_data\n",
    "df_m.shape"
   ]
  },
  {
   "cell_type": "code",
   "execution_count": 10,
   "metadata": {},
   "outputs": [
    {
     "name": "stdout",
     "output_type": "stream",
     "text": [
      "<class 'pandas.core.frame.DataFrame'>\n",
      "RangeIndex: 4803 entries, 0 to 4802\n",
      "Data columns (total 20 columns):\n",
      "budget                  4803 non-null int64\n",
      "genres                  4803 non-null object\n",
      "homepage                1712 non-null object\n",
      "id                      4803 non-null int64\n",
      "keywords                4803 non-null object\n",
      "original_language       4803 non-null object\n",
      "original_title          4803 non-null object\n",
      "overview                4800 non-null object\n",
      "popularity              4803 non-null float64\n",
      "production_companies    4803 non-null object\n",
      "production_countries    4803 non-null object\n",
      "release_date            4802 non-null object\n",
      "revenue                 4803 non-null int64\n",
      "runtime                 4801 non-null float64\n",
      "spoken_languages        4803 non-null object\n",
      "status                  4803 non-null object\n",
      "tagline                 3959 non-null object\n",
      "title                   4803 non-null object\n",
      "vote_average            4803 non-null float64\n",
      "vote_count              4803 non-null int64\n",
      "dtypes: float64(3), int64(4), object(13)\n",
      "memory usage: 750.6+ KB\n"
     ]
    }
   ],
   "source": [
    "#finding the data types of columns\n",
    "#see if there is any null value\n",
    "df_m.info()"
   ]
  },
  {
   "cell_type": "code",
   "execution_count": 11,
   "metadata": {},
   "outputs": [
    {
     "data": {
      "text/plain": [
       "False    4803\n",
       "dtype: int64"
      ]
     },
     "execution_count": 11,
     "metadata": {},
     "output_type": "execute_result"
    }
   ],
   "source": [
    "#see if there is any duplicated data\n",
    "df_m.duplicated().value_counts()"
   ]
  },
  {
   "cell_type": "code",
   "execution_count": 12,
   "metadata": {},
   "outputs": [
    {
     "data": {
      "text/html": [
       "<div>\n",
       "<style scoped>\n",
       "    .dataframe tbody tr th:only-of-type {\n",
       "        vertical-align: middle;\n",
       "    }\n",
       "\n",
       "    .dataframe tbody tr th {\n",
       "        vertical-align: top;\n",
       "    }\n",
       "\n",
       "    .dataframe thead th {\n",
       "        text-align: right;\n",
       "    }\n",
       "</style>\n",
       "<table border=\"1\" class=\"dataframe\">\n",
       "  <thead>\n",
       "    <tr style=\"text-align: right;\">\n",
       "      <th></th>\n",
       "      <th>budget</th>\n",
       "      <th>id</th>\n",
       "      <th>popularity</th>\n",
       "      <th>revenue</th>\n",
       "      <th>runtime</th>\n",
       "      <th>vote_average</th>\n",
       "      <th>vote_count</th>\n",
       "    </tr>\n",
       "  </thead>\n",
       "  <tbody>\n",
       "    <tr>\n",
       "      <td>count</td>\n",
       "      <td>4.803000e+03</td>\n",
       "      <td>4803.000000</td>\n",
       "      <td>4803.000000</td>\n",
       "      <td>4.803000e+03</td>\n",
       "      <td>4801.000000</td>\n",
       "      <td>4803.000000</td>\n",
       "      <td>4803.000000</td>\n",
       "    </tr>\n",
       "    <tr>\n",
       "      <td>mean</td>\n",
       "      <td>2.904504e+07</td>\n",
       "      <td>57165.484281</td>\n",
       "      <td>21.492301</td>\n",
       "      <td>8.226064e+07</td>\n",
       "      <td>106.875859</td>\n",
       "      <td>6.092172</td>\n",
       "      <td>690.217989</td>\n",
       "    </tr>\n",
       "    <tr>\n",
       "      <td>std</td>\n",
       "      <td>4.072239e+07</td>\n",
       "      <td>88694.614033</td>\n",
       "      <td>31.816650</td>\n",
       "      <td>1.628571e+08</td>\n",
       "      <td>22.611935</td>\n",
       "      <td>1.194612</td>\n",
       "      <td>1234.585891</td>\n",
       "    </tr>\n",
       "    <tr>\n",
       "      <td>min</td>\n",
       "      <td>0.000000e+00</td>\n",
       "      <td>5.000000</td>\n",
       "      <td>0.000000</td>\n",
       "      <td>0.000000e+00</td>\n",
       "      <td>0.000000</td>\n",
       "      <td>0.000000</td>\n",
       "      <td>0.000000</td>\n",
       "    </tr>\n",
       "    <tr>\n",
       "      <td>25%</td>\n",
       "      <td>7.900000e+05</td>\n",
       "      <td>9014.500000</td>\n",
       "      <td>4.668070</td>\n",
       "      <td>0.000000e+00</td>\n",
       "      <td>94.000000</td>\n",
       "      <td>5.600000</td>\n",
       "      <td>54.000000</td>\n",
       "    </tr>\n",
       "    <tr>\n",
       "      <td>50%</td>\n",
       "      <td>1.500000e+07</td>\n",
       "      <td>14629.000000</td>\n",
       "      <td>12.921594</td>\n",
       "      <td>1.917000e+07</td>\n",
       "      <td>103.000000</td>\n",
       "      <td>6.200000</td>\n",
       "      <td>235.000000</td>\n",
       "    </tr>\n",
       "    <tr>\n",
       "      <td>75%</td>\n",
       "      <td>4.000000e+07</td>\n",
       "      <td>58610.500000</td>\n",
       "      <td>28.313505</td>\n",
       "      <td>9.291719e+07</td>\n",
       "      <td>118.000000</td>\n",
       "      <td>6.800000</td>\n",
       "      <td>737.000000</td>\n",
       "    </tr>\n",
       "    <tr>\n",
       "      <td>max</td>\n",
       "      <td>3.800000e+08</td>\n",
       "      <td>459488.000000</td>\n",
       "      <td>875.581305</td>\n",
       "      <td>2.787965e+09</td>\n",
       "      <td>338.000000</td>\n",
       "      <td>10.000000</td>\n",
       "      <td>13752.000000</td>\n",
       "    </tr>\n",
       "  </tbody>\n",
       "</table>\n",
       "</div>"
      ],
      "text/plain": [
       "             budget             id   popularity       revenue      runtime  \\\n",
       "count  4.803000e+03    4803.000000  4803.000000  4.803000e+03  4801.000000   \n",
       "mean   2.904504e+07   57165.484281    21.492301  8.226064e+07   106.875859   \n",
       "std    4.072239e+07   88694.614033    31.816650  1.628571e+08    22.611935   \n",
       "min    0.000000e+00       5.000000     0.000000  0.000000e+00     0.000000   \n",
       "25%    7.900000e+05    9014.500000     4.668070  0.000000e+00    94.000000   \n",
       "50%    1.500000e+07   14629.000000    12.921594  1.917000e+07   103.000000   \n",
       "75%    4.000000e+07   58610.500000    28.313505  9.291719e+07   118.000000   \n",
       "max    3.800000e+08  459488.000000   875.581305  2.787965e+09   338.000000   \n",
       "\n",
       "       vote_average    vote_count  \n",
       "count   4803.000000   4803.000000  \n",
       "mean       6.092172    690.217989  \n",
       "std        1.194612   1234.585891  \n",
       "min        0.000000      0.000000  \n",
       "25%        5.600000     54.000000  \n",
       "50%        6.200000    235.000000  \n",
       "75%        6.800000    737.000000  \n",
       "max       10.000000  13752.000000  "
      ]
     },
     "execution_count": 12,
     "metadata": {},
     "output_type": "execute_result"
    }
   ],
   "source": [
    "#see some statistics about movies data\n",
    "df_m.describe()"
   ]
  },
  {
   "cell_type": "markdown",
   "metadata": {},
   "source": [
    "<h3> A little overview of movies_data</h3>\n",
    "<p>After looking on the data in the data \n",
    "    there seems to be a lot of json object<br> columns we need to look inside them to know more<br> \n",
    "    there are also columns which contains null value we have to decide about <br>\n",
    "    what to do with them , and there are data which equals to zero we have to decide about them <br>\n",
    "    whether we remove them ,keep them or replace them with another value<br>\n",
    "    in addition there are data types we need to look through them like \"release_date\"</p>"
   ]
  },
  {
   "cell_type": "markdown",
   "metadata": {},
   "source": [
    "<h4>go through json objects in movies_data</h4>"
   ]
  },
  {
   "cell_type": "code",
   "execution_count": 13,
   "metadata": {},
   "outputs": [
    {
     "data": {
      "text/plain": [
       "1175"
      ]
     },
     "execution_count": 13,
     "metadata": {},
     "output_type": "execute_result"
    }
   ],
   "source": [
    "#number of unique values in json objects in \"genres\" column \n",
    "df_m['genres'].nunique()"
   ]
  },
  {
   "cell_type": "code",
   "execution_count": 14,
   "metadata": {},
   "outputs": [
    {
     "data": {
      "text/plain": [
       "[{'id': 28, 'name': 'Action'},\n",
       " {'id': 12, 'name': 'Adventure'},\n",
       " {'id': 14, 'name': 'Fantasy'},\n",
       " {'id': 878, 'name': 'Science Fiction'}]"
      ]
     },
     "execution_count": 14,
     "metadata": {},
     "output_type": "execute_result"
    }
   ],
   "source": [
    "#the first json object in \"genres\" column\n",
    "genre=json.loads(df_m['genres'][0])\n",
    "genre"
   ]
  },
  {
   "cell_type": "code",
   "execution_count": 15,
   "metadata": {},
   "outputs": [
    {
     "data": {
      "text/plain": [
       "4222"
      ]
     },
     "execution_count": 15,
     "metadata": {},
     "output_type": "execute_result"
    }
   ],
   "source": [
    "#number of unique values in json objects in \"keywords\" column\n",
    "df_m['keywords'].nunique()"
   ]
  },
  {
   "cell_type": "code",
   "execution_count": 16,
   "metadata": {},
   "outputs": [
    {
     "data": {
      "text/plain": [
       "[{'id': 1463, 'name': 'culture clash'},\n",
       " {'id': 2964, 'name': 'future'},\n",
       " {'id': 3386, 'name': 'space war'},\n",
       " {'id': 3388, 'name': 'space colony'},\n",
       " {'id': 3679, 'name': 'society'},\n",
       " {'id': 3801, 'name': 'space travel'},\n",
       " {'id': 9685, 'name': 'futuristic'},\n",
       " {'id': 9840, 'name': 'romance'},\n",
       " {'id': 9882, 'name': 'space'},\n",
       " {'id': 9951, 'name': 'alien'},\n",
       " {'id': 10148, 'name': 'tribe'},\n",
       " {'id': 10158, 'name': 'alien planet'},\n",
       " {'id': 10987, 'name': 'cgi'},\n",
       " {'id': 11399, 'name': 'marine'},\n",
       " {'id': 13065, 'name': 'soldier'},\n",
       " {'id': 14643, 'name': 'battle'},\n",
       " {'id': 14720, 'name': 'love affair'},\n",
       " {'id': 165431, 'name': 'anti war'},\n",
       " {'id': 193554, 'name': 'power relations'},\n",
       " {'id': 206690, 'name': 'mind and soul'},\n",
       " {'id': 209714, 'name': '3d'}]"
      ]
     },
     "execution_count": 16,
     "metadata": {},
     "output_type": "execute_result"
    }
   ],
   "source": [
    "#the first json object in \"keywords\" column\n",
    "keyword=json.loads(df_m['keywords'][0])\n",
    "keyword"
   ]
  },
  {
   "cell_type": "code",
   "execution_count": 17,
   "metadata": {},
   "outputs": [
    {
     "data": {
      "text/plain": [
       "3697"
      ]
     },
     "execution_count": 17,
     "metadata": {},
     "output_type": "execute_result"
    }
   ],
   "source": [
    "#number of unique values in json objects in \"production_companies\" column\n",
    "df_m['production_companies'].nunique()"
   ]
  },
  {
   "cell_type": "code",
   "execution_count": 18,
   "metadata": {},
   "outputs": [
    {
     "data": {
      "text/plain": [
       "[{'name': 'Ingenious Film Partners', 'id': 289},\n",
       " {'name': 'Twentieth Century Fox Film Corporation', 'id': 306},\n",
       " {'name': 'Dune Entertainment', 'id': 444},\n",
       " {'name': 'Lightstorm Entertainment', 'id': 574}]"
      ]
     },
     "execution_count": 18,
     "metadata": {},
     "output_type": "execute_result"
    }
   ],
   "source": [
    "#the first json object in \"production_companies\" column\n",
    "prod_companies=json.loads(df_m['production_companies'][0])\n",
    "prod_companies"
   ]
  },
  {
   "cell_type": "code",
   "execution_count": 19,
   "metadata": {},
   "outputs": [
    {
     "data": {
      "text/plain": [
       "469"
      ]
     },
     "execution_count": 19,
     "metadata": {},
     "output_type": "execute_result"
    }
   ],
   "source": [
    "#number of unique values in json objects in \"production_countries\" column\n",
    "df_m['production_countries'].nunique()"
   ]
  },
  {
   "cell_type": "code",
   "execution_count": 20,
   "metadata": {},
   "outputs": [
    {
     "data": {
      "text/plain": [
       "[{'iso_3166_1': 'US', 'name': 'United States of America'},\n",
       " {'iso_3166_1': 'GB', 'name': 'United Kingdom'}]"
      ]
     },
     "execution_count": 20,
     "metadata": {},
     "output_type": "execute_result"
    }
   ],
   "source": [
    "#the first json object in \"production_countries\" column\n",
    "prod_countries=json.loads(df_m['production_countries'][0])\n",
    "prod_countries"
   ]
  },
  {
   "cell_type": "code",
   "execution_count": 21,
   "metadata": {},
   "outputs": [
    {
     "data": {
      "text/plain": [
       "544"
      ]
     },
     "execution_count": 21,
     "metadata": {},
     "output_type": "execute_result"
    }
   ],
   "source": [
    "#number of unique values in json objects in \"spoken_languages\" column\n",
    "df_m['spoken_languages'].nunique()"
   ]
  },
  {
   "cell_type": "code",
   "execution_count": 22,
   "metadata": {},
   "outputs": [
    {
     "data": {
      "text/plain": [
       "[{'iso_639_1': 'en', 'name': 'English'},\n",
       " {'iso_639_1': 'es', 'name': 'Español'}]"
      ]
     },
     "execution_count": 22,
     "metadata": {},
     "output_type": "execute_result"
    }
   ],
   "source": [
    "#the first json object in \"spoken_languages\" column\n",
    "spoke_languages=json.loads(df_m['spoken_languages'][0])\n",
    "spoke_languages"
   ]
  },
  {
   "cell_type": "markdown",
   "metadata": {},
   "source": [
    "<h4>go through the other columns as json columns </h4> "
   ]
  },
  {
   "cell_type": "code",
   "execution_count": 23,
   "metadata": {},
   "outputs": [
    {
     "data": {
      "text/plain": [
       "0            1037\n",
       "20000000      144\n",
       "30000000      128\n",
       "25000000      126\n",
       "40000000      123\n",
       "             ... \n",
       "280000000       1\n",
       "2053648         1\n",
       "85000           1\n",
       "52500000        1\n",
       "40600000        1\n",
       "Name: budget, Length: 436, dtype: int64"
      ]
     },
     "execution_count": 23,
     "metadata": {},
     "output_type": "execute_result"
    }
   ],
   "source": [
    "#the number of repeatation of a value in \"budget\" column\n",
    "df_m['budget'].value_counts()"
   ]
  },
  {
   "cell_type": "code",
   "execution_count": 24,
   "metadata": {},
   "outputs": [
    {
     "data": {
      "text/plain": [
       "0           1427\n",
       "7000000        6\n",
       "8000000        6\n",
       "6000000        5\n",
       "12000000       5\n",
       "            ... \n",
       "32726956       1\n",
       "4420000        1\n",
       "26096852       1\n",
       "79817939       1\n",
       "10680275       1\n",
       "Name: revenue, Length: 3297, dtype: int64"
      ]
     },
     "execution_count": 24,
     "metadata": {},
     "output_type": "execute_result"
    }
   ],
   "source": [
    "#the number of repeatation of a value in \"revenue\" column\n",
    "df_m['revenue'].value_counts()"
   ]
  },
  {
   "cell_type": "code",
   "execution_count": 25,
   "metadata": {},
   "outputs": [
    {
     "data": {
      "text/plain": [
       "Batman             2\n",
       "The Host           2\n",
       "Out of the Blue    2\n",
       "Home               1\n",
       "Mutual Friends     1\n",
       "                  ..\n",
       "Arachnophobia      1\n",
       "Alfie              1\n",
       "Alpha and Omega    1\n",
       "Beowulf            1\n",
       "Warcraft           1\n",
       "Name: title, Length: 4800, dtype: int64"
      ]
     },
     "execution_count": 25,
     "metadata": {},
     "output_type": "execute_result"
    }
   ],
   "source": [
    "#the number of repeatation of a value in \"title\" column\n",
    "df_m['title'].value_counts()"
   ]
  },
  {
   "cell_type": "code",
   "execution_count": 26,
   "metadata": {},
   "outputs": [
    {
     "data": {
      "text/html": [
       "<div>\n",
       "<style scoped>\n",
       "    .dataframe tbody tr th:only-of-type {\n",
       "        vertical-align: middle;\n",
       "    }\n",
       "\n",
       "    .dataframe tbody tr th {\n",
       "        vertical-align: top;\n",
       "    }\n",
       "\n",
       "    .dataframe thead th {\n",
       "        text-align: right;\n",
       "    }\n",
       "</style>\n",
       "<table border=\"1\" class=\"dataframe\">\n",
       "  <thead>\n",
       "    <tr style=\"text-align: right;\">\n",
       "      <th></th>\n",
       "      <th>budget</th>\n",
       "      <th>genres</th>\n",
       "      <th>homepage</th>\n",
       "      <th>id</th>\n",
       "      <th>keywords</th>\n",
       "      <th>original_language</th>\n",
       "      <th>original_title</th>\n",
       "      <th>overview</th>\n",
       "      <th>popularity</th>\n",
       "      <th>production_companies</th>\n",
       "      <th>production_countries</th>\n",
       "      <th>release_date</th>\n",
       "      <th>revenue</th>\n",
       "      <th>runtime</th>\n",
       "      <th>spoken_languages</th>\n",
       "      <th>status</th>\n",
       "      <th>tagline</th>\n",
       "      <th>title</th>\n",
       "      <th>vote_average</th>\n",
       "      <th>vote_count</th>\n",
       "    </tr>\n",
       "  </thead>\n",
       "  <tbody>\n",
       "    <tr>\n",
       "      <td>972</td>\n",
       "      <td>44000000</td>\n",
       "      <td>[{\"id\": 28, \"name\": \"Action\"}, {\"id\": 12, \"nam...</td>\n",
       "      <td>NaN</td>\n",
       "      <td>72710</td>\n",
       "      <td>[{\"id\": 818, \"name\": \"based on novel\"}, {\"id\":...</td>\n",
       "      <td>en</td>\n",
       "      <td>The Host</td>\n",
       "      <td>A parasitic alien soul is injected into the bo...</td>\n",
       "      <td>42.933027</td>\n",
       "      <td>[{\"name\": \"Nick Wechsler Productions\", \"id\": 8...</td>\n",
       "      <td>[{\"iso_3166_1\": \"US\", \"name\": \"United States o...</td>\n",
       "      <td>2013-03-22</td>\n",
       "      <td>63327201</td>\n",
       "      <td>125.0</td>\n",
       "      <td>[{\"iso_639_1\": \"en\", \"name\": \"English\"}]</td>\n",
       "      <td>Released</td>\n",
       "      <td>You will be one of us</td>\n",
       "      <td>The Host</td>\n",
       "      <td>6.0</td>\n",
       "      <td>1817</td>\n",
       "    </tr>\n",
       "    <tr>\n",
       "      <td>2877</td>\n",
       "      <td>11000000</td>\n",
       "      <td>[{\"id\": 27, \"name\": \"Horror\"}, {\"id\": 18, \"nam...</td>\n",
       "      <td>http://www.hostmovie.com/</td>\n",
       "      <td>1255</td>\n",
       "      <td>[{\"id\": 1261, \"name\": \"river\"}, {\"id\": 1880, \"...</td>\n",
       "      <td>ko</td>\n",
       "      <td>괴물</td>\n",
       "      <td>Gang-du is a dim-witted man working at his fat...</td>\n",
       "      <td>27.655270</td>\n",
       "      <td>[{\"name\": \"Cineclick Asia\", \"id\": 685}, {\"name...</td>\n",
       "      <td>[{\"iso_3166_1\": \"KR\", \"name\": \"South Korea\"}]</td>\n",
       "      <td>2006-07-27</td>\n",
       "      <td>88489643</td>\n",
       "      <td>119.0</td>\n",
       "      <td>[{\"iso_639_1\": \"ko\", \"name\": \"\\ud55c\\uad6d\\uc5...</td>\n",
       "      <td>Released</td>\n",
       "      <td>Monsters are real.</td>\n",
       "      <td>The Host</td>\n",
       "      <td>6.7</td>\n",
       "      <td>537</td>\n",
       "    </tr>\n",
       "  </tbody>\n",
       "</table>\n",
       "</div>"
      ],
      "text/plain": [
       "        budget                                             genres  \\\n",
       "972   44000000  [{\"id\": 28, \"name\": \"Action\"}, {\"id\": 12, \"nam...   \n",
       "2877  11000000  [{\"id\": 27, \"name\": \"Horror\"}, {\"id\": 18, \"nam...   \n",
       "\n",
       "                       homepage     id  \\\n",
       "972                         NaN  72710   \n",
       "2877  http://www.hostmovie.com/   1255   \n",
       "\n",
       "                                               keywords original_language  \\\n",
       "972   [{\"id\": 818, \"name\": \"based on novel\"}, {\"id\":...                en   \n",
       "2877  [{\"id\": 1261, \"name\": \"river\"}, {\"id\": 1880, \"...                ko   \n",
       "\n",
       "     original_title                                           overview  \\\n",
       "972        The Host  A parasitic alien soul is injected into the bo...   \n",
       "2877             괴물  Gang-du is a dim-witted man working at his fat...   \n",
       "\n",
       "      popularity                               production_companies  \\\n",
       "972    42.933027  [{\"name\": \"Nick Wechsler Productions\", \"id\": 8...   \n",
       "2877   27.655270  [{\"name\": \"Cineclick Asia\", \"id\": 685}, {\"name...   \n",
       "\n",
       "                                   production_countries release_date  \\\n",
       "972   [{\"iso_3166_1\": \"US\", \"name\": \"United States o...   2013-03-22   \n",
       "2877      [{\"iso_3166_1\": \"KR\", \"name\": \"South Korea\"}]   2006-07-27   \n",
       "\n",
       "       revenue  runtime                                   spoken_languages  \\\n",
       "972   63327201    125.0           [{\"iso_639_1\": \"en\", \"name\": \"English\"}]   \n",
       "2877  88489643    119.0  [{\"iso_639_1\": \"ko\", \"name\": \"\\ud55c\\uad6d\\uc5...   \n",
       "\n",
       "        status                tagline     title  vote_average  vote_count  \n",
       "972   Released  You will be one of us  The Host           6.0        1817  \n",
       "2877  Released     Monsters are real.  The Host           6.7         537  "
      ]
     },
     "execution_count": 26,
     "metadata": {},
     "output_type": "execute_result"
    }
   ],
   "source": [
    "#see the movies with title is \"The Host\" and assess them \n",
    "df_m.query('title==\"The Host\"')"
   ]
  },
  {
   "cell_type": "code",
   "execution_count": 27,
   "metadata": {},
   "outputs": [
    {
     "data": {
      "text/html": [
       "<div>\n",
       "<style scoped>\n",
       "    .dataframe tbody tr th:only-of-type {\n",
       "        vertical-align: middle;\n",
       "    }\n",
       "\n",
       "    .dataframe tbody tr th {\n",
       "        vertical-align: top;\n",
       "    }\n",
       "\n",
       "    .dataframe thead th {\n",
       "        text-align: right;\n",
       "    }\n",
       "</style>\n",
       "<table border=\"1\" class=\"dataframe\">\n",
       "  <thead>\n",
       "    <tr style=\"text-align: right;\">\n",
       "      <th></th>\n",
       "      <th>budget</th>\n",
       "      <th>genres</th>\n",
       "      <th>homepage</th>\n",
       "      <th>id</th>\n",
       "      <th>keywords</th>\n",
       "      <th>original_language</th>\n",
       "      <th>original_title</th>\n",
       "      <th>overview</th>\n",
       "      <th>popularity</th>\n",
       "      <th>production_companies</th>\n",
       "      <th>production_countries</th>\n",
       "      <th>release_date</th>\n",
       "      <th>revenue</th>\n",
       "      <th>runtime</th>\n",
       "      <th>spoken_languages</th>\n",
       "      <th>status</th>\n",
       "      <th>tagline</th>\n",
       "      <th>title</th>\n",
       "      <th>vote_average</th>\n",
       "      <th>vote_count</th>\n",
       "    </tr>\n",
       "  </thead>\n",
       "  <tbody>\n",
       "    <tr>\n",
       "      <td>1359</td>\n",
       "      <td>35000000</td>\n",
       "      <td>[{\"id\": 14, \"name\": \"Fantasy\"}, {\"id\": 28, \"na...</td>\n",
       "      <td>NaN</td>\n",
       "      <td>268</td>\n",
       "      <td>[{\"id\": 848, \"name\": \"double life\"}, {\"id\": 84...</td>\n",
       "      <td>en</td>\n",
       "      <td>Batman</td>\n",
       "      <td>The Dark Knight of Gotham City begins his war ...</td>\n",
       "      <td>44.104469</td>\n",
       "      <td>[{\"name\": \"PolyGram Filmed Entertainment\", \"id...</td>\n",
       "      <td>[{\"iso_3166_1\": \"GB\", \"name\": \"United Kingdom\"...</td>\n",
       "      <td>1989-06-23</td>\n",
       "      <td>411348924</td>\n",
       "      <td>126.0</td>\n",
       "      <td>[{\"iso_639_1\": \"en\", \"name\": \"English\"}, {\"iso...</td>\n",
       "      <td>Released</td>\n",
       "      <td>Have you ever danced with the devil in the pal...</td>\n",
       "      <td>Batman</td>\n",
       "      <td>7.0</td>\n",
       "      <td>2096</td>\n",
       "    </tr>\n",
       "    <tr>\n",
       "      <td>4267</td>\n",
       "      <td>1377800</td>\n",
       "      <td>[{\"id\": 10751, \"name\": \"Family\"}, {\"id\": 12, \"...</td>\n",
       "      <td>NaN</td>\n",
       "      <td>2661</td>\n",
       "      <td>[{\"id\": 339, \"name\": \"submarine\"}, {\"id\": 849,...</td>\n",
       "      <td>en</td>\n",
       "      <td>Batman</td>\n",
       "      <td>The Dynamic Duo faces four super-villains who ...</td>\n",
       "      <td>9.815394</td>\n",
       "      <td>[{\"name\": \"Twentieth Century Fox Film Corporat...</td>\n",
       "      <td>[{\"iso_3166_1\": \"US\", \"name\": \"United States o...</td>\n",
       "      <td>1966-07-30</td>\n",
       "      <td>0</td>\n",
       "      <td>105.0</td>\n",
       "      <td>[{\"iso_639_1\": \"en\", \"name\": \"English\"}]</td>\n",
       "      <td>Released</td>\n",
       "      <td>He's Here Big As Life In A Real Bat-Epic</td>\n",
       "      <td>Batman</td>\n",
       "      <td>6.1</td>\n",
       "      <td>203</td>\n",
       "    </tr>\n",
       "  </tbody>\n",
       "</table>\n",
       "</div>"
      ],
      "text/plain": [
       "        budget                                             genres homepage  \\\n",
       "1359  35000000  [{\"id\": 14, \"name\": \"Fantasy\"}, {\"id\": 28, \"na...      NaN   \n",
       "4267   1377800  [{\"id\": 10751, \"name\": \"Family\"}, {\"id\": 12, \"...      NaN   \n",
       "\n",
       "        id                                           keywords  \\\n",
       "1359   268  [{\"id\": 848, \"name\": \"double life\"}, {\"id\": 84...   \n",
       "4267  2661  [{\"id\": 339, \"name\": \"submarine\"}, {\"id\": 849,...   \n",
       "\n",
       "     original_language original_title  \\\n",
       "1359                en         Batman   \n",
       "4267                en         Batman   \n",
       "\n",
       "                                               overview  popularity  \\\n",
       "1359  The Dark Knight of Gotham City begins his war ...   44.104469   \n",
       "4267  The Dynamic Duo faces four super-villains who ...    9.815394   \n",
       "\n",
       "                                   production_companies  \\\n",
       "1359  [{\"name\": \"PolyGram Filmed Entertainment\", \"id...   \n",
       "4267  [{\"name\": \"Twentieth Century Fox Film Corporat...   \n",
       "\n",
       "                                   production_countries release_date  \\\n",
       "1359  [{\"iso_3166_1\": \"GB\", \"name\": \"United Kingdom\"...   1989-06-23   \n",
       "4267  [{\"iso_3166_1\": \"US\", \"name\": \"United States o...   1966-07-30   \n",
       "\n",
       "        revenue  runtime                                   spoken_languages  \\\n",
       "1359  411348924    126.0  [{\"iso_639_1\": \"en\", \"name\": \"English\"}, {\"iso...   \n",
       "4267          0    105.0           [{\"iso_639_1\": \"en\", \"name\": \"English\"}]   \n",
       "\n",
       "        status                                            tagline   title  \\\n",
       "1359  Released  Have you ever danced with the devil in the pal...  Batman   \n",
       "4267  Released           He's Here Big As Life In A Real Bat-Epic  Batman   \n",
       "\n",
       "      vote_average  vote_count  \n",
       "1359           7.0        2096  \n",
       "4267           6.1         203  "
      ]
     },
     "execution_count": 27,
     "metadata": {},
     "output_type": "execute_result"
    }
   ],
   "source": [
    "#see the movies with title is \"Batman\" and assess them \n",
    "df_m.query('title==\"Batman\"')"
   ]
  },
  {
   "cell_type": "code",
   "execution_count": 28,
   "metadata": {},
   "outputs": [
    {
     "data": {
      "text/html": [
       "<div>\n",
       "<style scoped>\n",
       "    .dataframe tbody tr th:only-of-type {\n",
       "        vertical-align: middle;\n",
       "    }\n",
       "\n",
       "    .dataframe tbody tr th {\n",
       "        vertical-align: top;\n",
       "    }\n",
       "\n",
       "    .dataframe thead th {\n",
       "        text-align: right;\n",
       "    }\n",
       "</style>\n",
       "<table border=\"1\" class=\"dataframe\">\n",
       "  <thead>\n",
       "    <tr style=\"text-align: right;\">\n",
       "      <th></th>\n",
       "      <th>budget</th>\n",
       "      <th>genres</th>\n",
       "      <th>homepage</th>\n",
       "      <th>id</th>\n",
       "      <th>keywords</th>\n",
       "      <th>original_language</th>\n",
       "      <th>original_title</th>\n",
       "      <th>overview</th>\n",
       "      <th>popularity</th>\n",
       "      <th>production_companies</th>\n",
       "      <th>production_countries</th>\n",
       "      <th>release_date</th>\n",
       "      <th>revenue</th>\n",
       "      <th>runtime</th>\n",
       "      <th>spoken_languages</th>\n",
       "      <th>status</th>\n",
       "      <th>tagline</th>\n",
       "      <th>title</th>\n",
       "      <th>vote_average</th>\n",
       "      <th>vote_count</th>\n",
       "    </tr>\n",
       "  </thead>\n",
       "  <tbody>\n",
       "    <tr>\n",
       "      <td>3647</td>\n",
       "      <td>0</td>\n",
       "      <td>[{\"id\": 18, \"name\": \"Drama\"}]</td>\n",
       "      <td>NaN</td>\n",
       "      <td>39269</td>\n",
       "      <td>[{\"id\": 4470, \"name\": \"punk\"}, {\"id\": 10183, \"...</td>\n",
       "      <td>en</td>\n",
       "      <td>Out of the Blue</td>\n",
       "      <td>Dennis Hopper is a hard-drinking truck driver ...</td>\n",
       "      <td>0.679351</td>\n",
       "      <td>[{\"name\": \"Robson Street\", \"id\": 71953}]</td>\n",
       "      <td>[{\"iso_3166_1\": \"CA\", \"name\": \"Canada\"}]</td>\n",
       "      <td>1980-05-01</td>\n",
       "      <td>0</td>\n",
       "      <td>94.0</td>\n",
       "      <td>[{\"iso_639_1\": \"en\", \"name\": \"English\"}]</td>\n",
       "      <td>Released</td>\n",
       "      <td>A harrowing drama from the director of Easy Rider</td>\n",
       "      <td>Out of the Blue</td>\n",
       "      <td>6.5</td>\n",
       "      <td>17</td>\n",
       "    </tr>\n",
       "    <tr>\n",
       "      <td>3693</td>\n",
       "      <td>0</td>\n",
       "      <td>[{\"id\": 18, \"name\": \"Drama\"}]</td>\n",
       "      <td>NaN</td>\n",
       "      <td>10844</td>\n",
       "      <td>[{\"id\": 2658, \"name\": \"new zealand\"}, {\"id\": 3...</td>\n",
       "      <td>en</td>\n",
       "      <td>Out of the Blue</td>\n",
       "      <td>Ordinary people find extraordinary courage in ...</td>\n",
       "      <td>0.706355</td>\n",
       "      <td>[]</td>\n",
       "      <td>[{\"iso_3166_1\": \"NZ\", \"name\": \"New Zealand\"}]</td>\n",
       "      <td>2006-10-12</td>\n",
       "      <td>0</td>\n",
       "      <td>103.0</td>\n",
       "      <td>[{\"iso_639_1\": \"en\", \"name\": \"English\"}]</td>\n",
       "      <td>Released</td>\n",
       "      <td>The true story of a small town massacre</td>\n",
       "      <td>Out of the Blue</td>\n",
       "      <td>5.9</td>\n",
       "      <td>18</td>\n",
       "    </tr>\n",
       "  </tbody>\n",
       "</table>\n",
       "</div>"
      ],
      "text/plain": [
       "      budget                         genres homepage     id  \\\n",
       "3647       0  [{\"id\": 18, \"name\": \"Drama\"}]      NaN  39269   \n",
       "3693       0  [{\"id\": 18, \"name\": \"Drama\"}]      NaN  10844   \n",
       "\n",
       "                                               keywords original_language  \\\n",
       "3647  [{\"id\": 4470, \"name\": \"punk\"}, {\"id\": 10183, \"...                en   \n",
       "3693  [{\"id\": 2658, \"name\": \"new zealand\"}, {\"id\": 3...                en   \n",
       "\n",
       "       original_title                                           overview  \\\n",
       "3647  Out of the Blue  Dennis Hopper is a hard-drinking truck driver ...   \n",
       "3693  Out of the Blue  Ordinary people find extraordinary courage in ...   \n",
       "\n",
       "      popularity                      production_companies  \\\n",
       "3647    0.679351  [{\"name\": \"Robson Street\", \"id\": 71953}]   \n",
       "3693    0.706355                                        []   \n",
       "\n",
       "                               production_countries release_date  revenue  \\\n",
       "3647       [{\"iso_3166_1\": \"CA\", \"name\": \"Canada\"}]   1980-05-01        0   \n",
       "3693  [{\"iso_3166_1\": \"NZ\", \"name\": \"New Zealand\"}]   2006-10-12        0   \n",
       "\n",
       "      runtime                          spoken_languages    status  \\\n",
       "3647     94.0  [{\"iso_639_1\": \"en\", \"name\": \"English\"}]  Released   \n",
       "3693    103.0  [{\"iso_639_1\": \"en\", \"name\": \"English\"}]  Released   \n",
       "\n",
       "                                                tagline            title  \\\n",
       "3647  A harrowing drama from the director of Easy Rider  Out of the Blue   \n",
       "3693            The true story of a small town massacre  Out of the Blue   \n",
       "\n",
       "      vote_average  vote_count  \n",
       "3647           6.5          17  \n",
       "3693           5.9          18  "
      ]
     },
     "execution_count": 28,
     "metadata": {},
     "output_type": "execute_result"
    }
   ],
   "source": [
    "#see the movies with title is \"Out of the Blue\" and assess them \n",
    "df_m.query('title==\"Out of the Blue\"')"
   ]
  },
  {
   "cell_type": "code",
   "execution_count": 29,
   "metadata": {},
   "outputs": [
    {
     "data": {
      "text/plain": [
       "Batman                                                                2\n",
       "Out of the Blue                                                       2\n",
       "Once in a Lifetime: The Extraordinary Story of the New York Cosmos    1\n",
       "Joyful Noise                                                          1\n",
       "Shanghai Knights                                                      1\n",
       "                                                                     ..\n",
       "Alpha and Omega                                                       1\n",
       "Beowulf                                                               1\n",
       "Fury                                                                  1\n",
       "Tales from the Hood                                                   1\n",
       "Warcraft                                                              1\n",
       "Name: original_title, Length: 4801, dtype: int64"
      ]
     },
     "execution_count": 29,
     "metadata": {},
     "output_type": "execute_result"
    }
   ],
   "source": [
    "#the number of repeatation of a value in \"original_title\" column\n",
    "df_m['original_title'].value_counts()"
   ]
  },
  {
   "cell_type": "markdown",
   "metadata": {},
   "source": [
    "<p>It looks like \"title\" column is mostly the same as \"original_title\" column</p> "
   ]
  },
  {
   "cell_type": "code",
   "execution_count": 30,
   "metadata": {},
   "outputs": [
    {
     "data": {
      "text/plain": [
       "Released           4795\n",
       "Rumored               5\n",
       "Post Production       3\n",
       "Name: status, dtype: int64"
      ]
     },
     "execution_count": 30,
     "metadata": {},
     "output_type": "execute_result"
    }
   ],
   "source": [
    "#the number of repeatation of a value in \"status\" column\n",
    "df_m['status'].value_counts()"
   ]
  },
  {
   "cell_type": "code",
   "execution_count": 31,
   "metadata": {},
   "outputs": [
    {
     "data": {
      "text/html": [
       "<div>\n",
       "<style scoped>\n",
       "    .dataframe tbody tr th:only-of-type {\n",
       "        vertical-align: middle;\n",
       "    }\n",
       "\n",
       "    .dataframe tbody tr th {\n",
       "        vertical-align: top;\n",
       "    }\n",
       "\n",
       "    .dataframe thead th {\n",
       "        text-align: right;\n",
       "    }\n",
       "</style>\n",
       "<table border=\"1\" class=\"dataframe\">\n",
       "  <thead>\n",
       "    <tr style=\"text-align: right;\">\n",
       "      <th></th>\n",
       "      <th>budget</th>\n",
       "      <th>genres</th>\n",
       "      <th>homepage</th>\n",
       "      <th>id</th>\n",
       "      <th>keywords</th>\n",
       "      <th>original_language</th>\n",
       "      <th>original_title</th>\n",
       "      <th>overview</th>\n",
       "      <th>popularity</th>\n",
       "      <th>production_companies</th>\n",
       "      <th>production_countries</th>\n",
       "      <th>release_date</th>\n",
       "      <th>revenue</th>\n",
       "      <th>runtime</th>\n",
       "      <th>spoken_languages</th>\n",
       "      <th>status</th>\n",
       "      <th>tagline</th>\n",
       "      <th>title</th>\n",
       "      <th>vote_average</th>\n",
       "      <th>vote_count</th>\n",
       "    </tr>\n",
       "  </thead>\n",
       "  <tbody>\n",
       "    <tr>\n",
       "      <td>2906</td>\n",
       "      <td>0</td>\n",
       "      <td>[{\"id\": 18, \"name\": \"Drama\"}, {\"id\": 10749, \"n...</td>\n",
       "      <td>https://www.facebook.com/eastsidestorymovie</td>\n",
       "      <td>357837</td>\n",
       "      <td>[{\"id\": 246, \"name\": \"dancing\"}, {\"id\": 271, \"...</td>\n",
       "      <td>cs</td>\n",
       "      <td>Dancin' It's On</td>\n",
       "      <td>This coming of age Dance Film, in the spirit o...</td>\n",
       "      <td>0.186234</td>\n",
       "      <td>[]</td>\n",
       "      <td>[{\"iso_3166_1\": \"US\", \"name\": \"United States o...</td>\n",
       "      <td>2015-10-16</td>\n",
       "      <td>0</td>\n",
       "      <td>89.0</td>\n",
       "      <td>[{\"iso_639_1\": \"en\", \"name\": \"English\"}]</td>\n",
       "      <td>Post Production</td>\n",
       "      <td>Dancin' Like You've Never Seen Before</td>\n",
       "      <td>Dancin' It's On</td>\n",
       "      <td>4.3</td>\n",
       "      <td>2</td>\n",
       "    </tr>\n",
       "    <tr>\n",
       "      <td>4169</td>\n",
       "      <td>1900000</td>\n",
       "      <td>[{\"id\": 18, \"name\": \"Drama\"}]</td>\n",
       "      <td>NaN</td>\n",
       "      <td>295886</td>\n",
       "      <td>[]</td>\n",
       "      <td>en</td>\n",
       "      <td>Brotherly Love</td>\n",
       "      <td>West Philadelphia basketball star Sergio Taylo...</td>\n",
       "      <td>1.367751</td>\n",
       "      <td>[]</td>\n",
       "      <td>[]</td>\n",
       "      <td>2015-04-24</td>\n",
       "      <td>0</td>\n",
       "      <td>89.0</td>\n",
       "      <td>[{\"iso_639_1\": \"en\", \"name\": \"English\"}]</td>\n",
       "      <td>Post Production</td>\n",
       "      <td>NaN</td>\n",
       "      <td>Brotherly Love</td>\n",
       "      <td>6.9</td>\n",
       "      <td>21</td>\n",
       "    </tr>\n",
       "    <tr>\n",
       "      <td>4178</td>\n",
       "      <td>2000000</td>\n",
       "      <td>[{\"id\": 18, \"name\": \"Drama\"}, {\"id\": 53, \"name...</td>\n",
       "      <td>http://www.sonyclassics.com/higherground/</td>\n",
       "      <td>50875</td>\n",
       "      <td>[{\"id\": 1009, \"name\": \"baby\"}, {\"id\": 1157, \"n...</td>\n",
       "      <td>en</td>\n",
       "      <td>Higher Ground</td>\n",
       "      <td>A chronicle of one woman's lifelong struggle w...</td>\n",
       "      <td>1.699101</td>\n",
       "      <td>[]</td>\n",
       "      <td>[{\"iso_3166_1\": \"US\", \"name\": \"United States o...</td>\n",
       "      <td>2011-08-26</td>\n",
       "      <td>841733</td>\n",
       "      <td>109.0</td>\n",
       "      <td>[{\"iso_639_1\": \"en\", \"name\": \"English\"}]</td>\n",
       "      <td>Post Production</td>\n",
       "      <td>NaN</td>\n",
       "      <td>Higher Ground</td>\n",
       "      <td>5.3</td>\n",
       "      <td>14</td>\n",
       "    </tr>\n",
       "    <tr>\n",
       "      <td>4401</td>\n",
       "      <td>0</td>\n",
       "      <td>[{\"id\": 28, \"name\": \"Action\"}, {\"id\": 35, \"nam...</td>\n",
       "      <td>NaN</td>\n",
       "      <td>43630</td>\n",
       "      <td>[]</td>\n",
       "      <td>en</td>\n",
       "      <td>The Helix... Loaded</td>\n",
       "      <td></td>\n",
       "      <td>0.020600</td>\n",
       "      <td>[]</td>\n",
       "      <td>[{\"iso_3166_1\": \"US\", \"name\": \"United States o...</td>\n",
       "      <td>2005-01-01</td>\n",
       "      <td>0</td>\n",
       "      <td>97.0</td>\n",
       "      <td>[{\"iso_639_1\": \"en\", \"name\": \"English\"}]</td>\n",
       "      <td>Rumored</td>\n",
       "      <td>NaN</td>\n",
       "      <td>The Helix... Loaded</td>\n",
       "      <td>4.8</td>\n",
       "      <td>2</td>\n",
       "    </tr>\n",
       "    <tr>\n",
       "      <td>4453</td>\n",
       "      <td>0</td>\n",
       "      <td>[{\"id\": 35, \"name\": \"Comedy\"}, {\"id\": 18, \"nam...</td>\n",
       "      <td>NaN</td>\n",
       "      <td>57294</td>\n",
       "      <td>[{\"id\": 1930, \"name\": \"kidnapping\"}, {\"id\": 97...</td>\n",
       "      <td>en</td>\n",
       "      <td>Crying with Laughter</td>\n",
       "      <td>Powerfully redemptive and darkly comedic reven...</td>\n",
       "      <td>0.108135</td>\n",
       "      <td>[{\"name\": \"Scottish Screen\", \"id\": 698}, {\"nam...</td>\n",
       "      <td>[{\"iso_3166_1\": \"GB\", \"name\": \"United Kingdom\"}]</td>\n",
       "      <td>2009-06-01</td>\n",
       "      <td>0</td>\n",
       "      <td>93.0</td>\n",
       "      <td>[{\"iso_639_1\": \"en\", \"name\": \"English\"}]</td>\n",
       "      <td>Rumored</td>\n",
       "      <td>A Bad Trip Down Memory Lane</td>\n",
       "      <td>Crying with Laughter</td>\n",
       "      <td>7.0</td>\n",
       "      <td>1</td>\n",
       "    </tr>\n",
       "    <tr>\n",
       "      <td>4508</td>\n",
       "      <td>56000</td>\n",
       "      <td>[{\"id\": 99, \"name\": \"Documentary\"}]</td>\n",
       "      <td>http://www.facebook.com/theharvestfilm</td>\n",
       "      <td>70875</td>\n",
       "      <td>[{\"id\": 1729, \"name\": \"migration\"}, {\"id\": 190...</td>\n",
       "      <td>en</td>\n",
       "      <td>The Harvest (La Cosecha)</td>\n",
       "      <td>The story of the children who work 12-14 hour ...</td>\n",
       "      <td>0.010909</td>\n",
       "      <td>[]</td>\n",
       "      <td>[]</td>\n",
       "      <td>2011-07-29</td>\n",
       "      <td>0</td>\n",
       "      <td>80.0</td>\n",
       "      <td>[]</td>\n",
       "      <td>Rumored</td>\n",
       "      <td>NaN</td>\n",
       "      <td>The Harvest (La Cosecha)</td>\n",
       "      <td>0.0</td>\n",
       "      <td>0</td>\n",
       "    </tr>\n",
       "    <tr>\n",
       "      <td>4662</td>\n",
       "      <td>0</td>\n",
       "      <td>[{\"id\": 35, \"name\": \"Comedy\"}]</td>\n",
       "      <td>NaN</td>\n",
       "      <td>40963</td>\n",
       "      <td>[{\"id\": 10183, \"name\": \"independent film\"}]</td>\n",
       "      <td>en</td>\n",
       "      <td>Little Big Top</td>\n",
       "      <td>An aging out of work clown returns to his smal...</td>\n",
       "      <td>0.092100</td>\n",
       "      <td>[{\"name\": \"Fly High Films\", \"id\": 24248}]</td>\n",
       "      <td>[{\"iso_3166_1\": \"US\", \"name\": \"United States o...</td>\n",
       "      <td>2006-01-01</td>\n",
       "      <td>0</td>\n",
       "      <td>0.0</td>\n",
       "      <td>[{\"iso_639_1\": \"en\", \"name\": \"English\"}]</td>\n",
       "      <td>Rumored</td>\n",
       "      <td>NaN</td>\n",
       "      <td>Little Big Top</td>\n",
       "      <td>10.0</td>\n",
       "      <td>1</td>\n",
       "    </tr>\n",
       "    <tr>\n",
       "      <td>4754</td>\n",
       "      <td>0</td>\n",
       "      <td>[{\"id\": 18, \"name\": \"Drama\"}, {\"id\": 35, \"name...</td>\n",
       "      <td>NaN</td>\n",
       "      <td>84659</td>\n",
       "      <td>[]</td>\n",
       "      <td>en</td>\n",
       "      <td>The Naked Ape</td>\n",
       "      <td>The Naked Ape is a coming-of-age film followin...</td>\n",
       "      <td>0.077577</td>\n",
       "      <td>[]</td>\n",
       "      <td>[]</td>\n",
       "      <td>2006-09-16</td>\n",
       "      <td>0</td>\n",
       "      <td>110.0</td>\n",
       "      <td>[]</td>\n",
       "      <td>Rumored</td>\n",
       "      <td>NaN</td>\n",
       "      <td>The Naked Ape</td>\n",
       "      <td>5.0</td>\n",
       "      <td>1</td>\n",
       "    </tr>\n",
       "  </tbody>\n",
       "</table>\n",
       "</div>"
      ],
      "text/plain": [
       "       budget                                             genres  \\\n",
       "2906        0  [{\"id\": 18, \"name\": \"Drama\"}, {\"id\": 10749, \"n...   \n",
       "4169  1900000                      [{\"id\": 18, \"name\": \"Drama\"}]   \n",
       "4178  2000000  [{\"id\": 18, \"name\": \"Drama\"}, {\"id\": 53, \"name...   \n",
       "4401        0  [{\"id\": 28, \"name\": \"Action\"}, {\"id\": 35, \"nam...   \n",
       "4453        0  [{\"id\": 35, \"name\": \"Comedy\"}, {\"id\": 18, \"nam...   \n",
       "4508    56000                [{\"id\": 99, \"name\": \"Documentary\"}]   \n",
       "4662        0                     [{\"id\": 35, \"name\": \"Comedy\"}]   \n",
       "4754        0  [{\"id\": 18, \"name\": \"Drama\"}, {\"id\": 35, \"name...   \n",
       "\n",
       "                                         homepage      id  \\\n",
       "2906  https://www.facebook.com/eastsidestorymovie  357837   \n",
       "4169                                          NaN  295886   \n",
       "4178    http://www.sonyclassics.com/higherground/   50875   \n",
       "4401                                          NaN   43630   \n",
       "4453                                          NaN   57294   \n",
       "4508       http://www.facebook.com/theharvestfilm   70875   \n",
       "4662                                          NaN   40963   \n",
       "4754                                          NaN   84659   \n",
       "\n",
       "                                               keywords original_language  \\\n",
       "2906  [{\"id\": 246, \"name\": \"dancing\"}, {\"id\": 271, \"...                cs   \n",
       "4169                                                 []                en   \n",
       "4178  [{\"id\": 1009, \"name\": \"baby\"}, {\"id\": 1157, \"n...                en   \n",
       "4401                                                 []                en   \n",
       "4453  [{\"id\": 1930, \"name\": \"kidnapping\"}, {\"id\": 97...                en   \n",
       "4508  [{\"id\": 1729, \"name\": \"migration\"}, {\"id\": 190...                en   \n",
       "4662        [{\"id\": 10183, \"name\": \"independent film\"}]                en   \n",
       "4754                                                 []                en   \n",
       "\n",
       "                original_title  \\\n",
       "2906           Dancin' It's On   \n",
       "4169            Brotherly Love   \n",
       "4178             Higher Ground   \n",
       "4401       The Helix... Loaded   \n",
       "4453      Crying with Laughter   \n",
       "4508  The Harvest (La Cosecha)   \n",
       "4662            Little Big Top   \n",
       "4754             The Naked Ape   \n",
       "\n",
       "                                               overview  popularity  \\\n",
       "2906  This coming of age Dance Film, in the spirit o...    0.186234   \n",
       "4169  West Philadelphia basketball star Sergio Taylo...    1.367751   \n",
       "4178  A chronicle of one woman's lifelong struggle w...    1.699101   \n",
       "4401                                                       0.020600   \n",
       "4453  Powerfully redemptive and darkly comedic reven...    0.108135   \n",
       "4508  The story of the children who work 12-14 hour ...    0.010909   \n",
       "4662  An aging out of work clown returns to his smal...    0.092100   \n",
       "4754  The Naked Ape is a coming-of-age film followin...    0.077577   \n",
       "\n",
       "                                   production_companies  \\\n",
       "2906                                                 []   \n",
       "4169                                                 []   \n",
       "4178                                                 []   \n",
       "4401                                                 []   \n",
       "4453  [{\"name\": \"Scottish Screen\", \"id\": 698}, {\"nam...   \n",
       "4508                                                 []   \n",
       "4662          [{\"name\": \"Fly High Films\", \"id\": 24248}]   \n",
       "4754                                                 []   \n",
       "\n",
       "                                   production_countries release_date  revenue  \\\n",
       "2906  [{\"iso_3166_1\": \"US\", \"name\": \"United States o...   2015-10-16        0   \n",
       "4169                                                 []   2015-04-24        0   \n",
       "4178  [{\"iso_3166_1\": \"US\", \"name\": \"United States o...   2011-08-26   841733   \n",
       "4401  [{\"iso_3166_1\": \"US\", \"name\": \"United States o...   2005-01-01        0   \n",
       "4453   [{\"iso_3166_1\": \"GB\", \"name\": \"United Kingdom\"}]   2009-06-01        0   \n",
       "4508                                                 []   2011-07-29        0   \n",
       "4662  [{\"iso_3166_1\": \"US\", \"name\": \"United States o...   2006-01-01        0   \n",
       "4754                                                 []   2006-09-16        0   \n",
       "\n",
       "      runtime                          spoken_languages           status  \\\n",
       "2906     89.0  [{\"iso_639_1\": \"en\", \"name\": \"English\"}]  Post Production   \n",
       "4169     89.0  [{\"iso_639_1\": \"en\", \"name\": \"English\"}]  Post Production   \n",
       "4178    109.0  [{\"iso_639_1\": \"en\", \"name\": \"English\"}]  Post Production   \n",
       "4401     97.0  [{\"iso_639_1\": \"en\", \"name\": \"English\"}]          Rumored   \n",
       "4453     93.0  [{\"iso_639_1\": \"en\", \"name\": \"English\"}]          Rumored   \n",
       "4508     80.0                                        []          Rumored   \n",
       "4662      0.0  [{\"iso_639_1\": \"en\", \"name\": \"English\"}]          Rumored   \n",
       "4754    110.0                                        []          Rumored   \n",
       "\n",
       "                                    tagline                     title  \\\n",
       "2906  Dancin' Like You've Never Seen Before           Dancin' It's On   \n",
       "4169                                    NaN            Brotherly Love   \n",
       "4178                                    NaN             Higher Ground   \n",
       "4401                                    NaN       The Helix... Loaded   \n",
       "4453            A Bad Trip Down Memory Lane      Crying with Laughter   \n",
       "4508                                    NaN  The Harvest (La Cosecha)   \n",
       "4662                                    NaN            Little Big Top   \n",
       "4754                                    NaN             The Naked Ape   \n",
       "\n",
       "      vote_average  vote_count  \n",
       "2906           4.3           2  \n",
       "4169           6.9          21  \n",
       "4178           5.3          14  \n",
       "4401           4.8           2  \n",
       "4453           7.0           1  \n",
       "4508           0.0           0  \n",
       "4662          10.0           1  \n",
       "4754           5.0           1  "
      ]
     },
     "execution_count": 31,
     "metadata": {},
     "output_type": "execute_result"
    }
   ],
   "source": [
    "#go through the other value of \"status\" column\n",
    "df_m.query('status in [\"Rumored\",\"Post Production\"]')"
   ]
  },
  {
   "cell_type": "code",
   "execution_count": 32,
   "metadata": {},
   "outputs": [
    {
     "data": {
      "text/plain": [
       "6.5    216\n",
       "6.0    216\n",
       "6.7    213\n",
       "6.3    207\n",
       "6.1    201\n",
       "      ... \n",
       "2.7      1\n",
       "2.2      1\n",
       "9.5      1\n",
       "2.6      1\n",
       "1.9      1\n",
       "Name: vote_average, Length: 71, dtype: int64"
      ]
     },
     "execution_count": 32,
     "metadata": {},
     "output_type": "execute_result"
    }
   ],
   "source": [
    "#the number of repeatation of a value in \"vote_average\" column\n",
    "df_m['vote_average'].value_counts()"
   ]
  },
  {
   "cell_type": "code",
   "execution_count": 33,
   "metadata": {},
   "outputs": [
    {
     "data": {
      "text/plain": [
       "0       62\n",
       "1       53\n",
       "2       46\n",
       "4       43\n",
       "3       41\n",
       "        ..\n",
       "2295     1\n",
       "266      1\n",
       "2359     1\n",
       "314      1\n",
       "2039     1\n",
       "Name: vote_count, Length: 1609, dtype: int64"
      ]
     },
     "execution_count": 33,
     "metadata": {},
     "output_type": "execute_result"
    }
   ],
   "source": [
    "#the number of repeatation of a value in \"vote_count\" column\n",
    "df_m['vote_count'].value_counts()"
   ]
  },
  {
   "cell_type": "code",
   "execution_count": 34,
   "metadata": {},
   "outputs": [
    {
     "data": {
      "text/plain": [
       "1609"
      ]
     },
     "execution_count": 34,
     "metadata": {},
     "output_type": "execute_result"
    }
   ],
   "source": [
    "#the number of unique values in \"vote_count\" column \n",
    "df_m['vote_count'].nunique()"
   ]
  },
  {
   "cell_type": "code",
   "execution_count": 35,
   "metadata": {},
   "outputs": [
    {
     "data": {
      "text/plain": [
       "en    4505\n",
       "fr      70\n",
       "es      32\n",
       "zh      27\n",
       "de      27\n",
       "hi      19\n",
       "ja      16\n",
       "it      14\n",
       "cn      12\n",
       "ko      11\n",
       "ru      11\n",
       "pt       9\n",
       "da       7\n",
       "sv       5\n",
       "nl       4\n",
       "fa       4\n",
       "th       3\n",
       "he       3\n",
       "id       2\n",
       "ta       2\n",
       "ro       2\n",
       "cs       2\n",
       "ar       2\n",
       "af       1\n",
       "no       1\n",
       "tr       1\n",
       "te       1\n",
       "hu       1\n",
       "is       1\n",
       "xx       1\n",
       "el       1\n",
       "sl       1\n",
       "pl       1\n",
       "ky       1\n",
       "nb       1\n",
       "ps       1\n",
       "vi       1\n",
       "Name: original_language, dtype: int64"
      ]
     },
     "execution_count": 35,
     "metadata": {},
     "output_type": "execute_result"
    }
   ],
   "source": [
    "#the number of repeatation of a value in \"original_language\" column\n",
    "df_m['original_language'].value_counts()"
   ]
  },
  {
   "cell_type": "code",
   "execution_count": 36,
   "metadata": {},
   "outputs": [
    {
     "data": {
      "text/html": [
       "<div>\n",
       "<style scoped>\n",
       "    .dataframe tbody tr th:only-of-type {\n",
       "        vertical-align: middle;\n",
       "    }\n",
       "\n",
       "    .dataframe tbody tr th {\n",
       "        vertical-align: top;\n",
       "    }\n",
       "\n",
       "    .dataframe thead th {\n",
       "        text-align: right;\n",
       "    }\n",
       "</style>\n",
       "<table border=\"1\" class=\"dataframe\">\n",
       "  <thead>\n",
       "    <tr style=\"text-align: right;\">\n",
       "      <th></th>\n",
       "      <th>budget</th>\n",
       "      <th>genres</th>\n",
       "      <th>homepage</th>\n",
       "      <th>id</th>\n",
       "      <th>keywords</th>\n",
       "      <th>original_language</th>\n",
       "      <th>original_title</th>\n",
       "      <th>overview</th>\n",
       "      <th>popularity</th>\n",
       "      <th>production_companies</th>\n",
       "      <th>production_countries</th>\n",
       "      <th>release_date</th>\n",
       "      <th>revenue</th>\n",
       "      <th>runtime</th>\n",
       "      <th>spoken_languages</th>\n",
       "      <th>status</th>\n",
       "      <th>tagline</th>\n",
       "      <th>title</th>\n",
       "      <th>vote_average</th>\n",
       "      <th>vote_count</th>\n",
       "    </tr>\n",
       "  </thead>\n",
       "  <tbody>\n",
       "    <tr>\n",
       "      <td>0</td>\n",
       "      <td>237000000</td>\n",
       "      <td>[{\"id\": 28, \"name\": \"Action\"}, {\"id\": 12, \"nam...</td>\n",
       "      <td>http://www.avatarmovie.com/</td>\n",
       "      <td>19995</td>\n",
       "      <td>[{\"id\": 1463, \"name\": \"culture clash\"}, {\"id\":...</td>\n",
       "      <td>en</td>\n",
       "      <td>Avatar</td>\n",
       "      <td>In the 22nd century, a paraplegic Marine is di...</td>\n",
       "      <td>150.437577</td>\n",
       "      <td>[{\"name\": \"Ingenious Film Partners\", \"id\": 289...</td>\n",
       "      <td>[{\"iso_3166_1\": \"US\", \"name\": \"United States o...</td>\n",
       "      <td>2009-12-10</td>\n",
       "      <td>2787965087</td>\n",
       "      <td>162.0</td>\n",
       "      <td>[{\"iso_639_1\": \"en\", \"name\": \"English\"}, {\"iso...</td>\n",
       "      <td>Released</td>\n",
       "      <td>Enter the World of Pandora.</td>\n",
       "      <td>Avatar</td>\n",
       "      <td>7.2</td>\n",
       "      <td>11800</td>\n",
       "    </tr>\n",
       "  </tbody>\n",
       "</table>\n",
       "</div>"
      ],
      "text/plain": [
       "      budget                                             genres  \\\n",
       "0  237000000  [{\"id\": 28, \"name\": \"Action\"}, {\"id\": 12, \"nam...   \n",
       "\n",
       "                      homepage     id  \\\n",
       "0  http://www.avatarmovie.com/  19995   \n",
       "\n",
       "                                            keywords original_language  \\\n",
       "0  [{\"id\": 1463, \"name\": \"culture clash\"}, {\"id\":...                en   \n",
       "\n",
       "  original_title                                           overview  \\\n",
       "0         Avatar  In the 22nd century, a paraplegic Marine is di...   \n",
       "\n",
       "   popularity                               production_companies  \\\n",
       "0  150.437577  [{\"name\": \"Ingenious Film Partners\", \"id\": 289...   \n",
       "\n",
       "                                production_countries release_date     revenue  \\\n",
       "0  [{\"iso_3166_1\": \"US\", \"name\": \"United States o...   2009-12-10  2787965087   \n",
       "\n",
       "   runtime                                   spoken_languages    status  \\\n",
       "0    162.0  [{\"iso_639_1\": \"en\", \"name\": \"English\"}, {\"iso...  Released   \n",
       "\n",
       "                       tagline   title  vote_average  vote_count  \n",
       "0  Enter the World of Pandora.  Avatar           7.2       11800  "
      ]
     },
     "execution_count": 36,
     "metadata": {},
     "output_type": "execute_result"
    }
   ],
   "source": [
    "#see the \"original _language for the movie with the max Revenue\"\n",
    "max_revenue=df_m[\"revenue\"].max()\n",
    "df_m.query('revenue==@max_revenue')"
   ]
  },
  {
   "cell_type": "markdown",
   "metadata": {},
   "source": [
    "### Data Cleaning "
   ]
  },
  {
   "cell_type": "markdown",
   "metadata": {
    "collapsed": true
   },
   "source": [
    "### first clean credits_data :- "
   ]
  },
  {
   "cell_type": "markdown",
   "metadata": {},
   "source": [
    "<h3>what are we going to do: </h3>\n",
    "<p>first, we are going to drop the crew column as we decided we will not use itand also \"Title\" we donot need it<br>\n",
    "second, we are going to go through cast column and get the number of each gender in a movie<br>\n",
    "third, we are going to drop the cast column after we used it<br>\n",
    "finally, we will merge the two data sets to be ready for the ovrall cleaning</p>"
   ]
  },
  {
   "cell_type": "code",
   "execution_count": 37,
   "metadata": {},
   "outputs": [],
   "source": [
    "#copy credits_data in another dataframe so we can go back if needed\n",
    "cred=credits.copy()"
   ]
  },
  {
   "cell_type": "code",
   "execution_count": 38,
   "metadata": {},
   "outputs": [],
   "source": [
    "# drop crew column\n",
    "cred.drop(['crew','title'],axis=1,inplace=True)"
   ]
  },
  {
   "cell_type": "code",
   "execution_count": 39,
   "metadata": {},
   "outputs": [],
   "source": [
    "#geting the number of each gender step \n",
    "#identify lists for it\n",
    "num_cast=[]   #the number of all cast\n",
    "female=[]     #the number of female cast\n",
    "male=[]       #the number of male cast\n",
    "unknown=[]    #the number of unknown gender cast\n"
   ]
  },
  {
   "cell_type": "code",
   "execution_count": 40,
   "metadata": {},
   "outputs": [
    {
     "data": {
      "text/plain": [
       "Index(['movie_id', 'cast'], dtype='object')"
      ]
     },
     "execution_count": 40,
     "metadata": {},
     "output_type": "execute_result"
    }
   ],
   "source": [
    "cred.columns"
   ]
  },
  {
   "cell_type": "code",
   "execution_count": 41,
   "metadata": {},
   "outputs": [],
   "source": [
    "#append the values to the lists from json objects \n",
    "for i in range(credits.shape[0]):\n",
    "    cast=json.loads(cred['cast'][i])\n",
    "    n_c,f,m,u=0,0,0,0\n",
    "    for c in range(len(cast)):\n",
    "        n_c+=1\n",
    "        if cast[c]['gender']== 1:\n",
    "            f+=1\n",
    "        elif cast[c]['gender']==2:\n",
    "            m+=1\n",
    "        else:\n",
    "            u+=1\n",
    "    num_cast.append(n_c)\n",
    "    female.append(f)\n",
    "    male.append(m)\n",
    "    unknown.append(u)"
   ]
  },
  {
   "cell_type": "code",
   "execution_count": 42,
   "metadata": {},
   "outputs": [
    {
     "data": {
      "text/html": [
       "<div>\n",
       "<style scoped>\n",
       "    .dataframe tbody tr th:only-of-type {\n",
       "        vertical-align: middle;\n",
       "    }\n",
       "\n",
       "    .dataframe tbody tr th {\n",
       "        vertical-align: top;\n",
       "    }\n",
       "\n",
       "    .dataframe thead th {\n",
       "        text-align: right;\n",
       "    }\n",
       "</style>\n",
       "<table border=\"1\" class=\"dataframe\">\n",
       "  <thead>\n",
       "    <tr style=\"text-align: right;\">\n",
       "      <th></th>\n",
       "      <th>movie_id</th>\n",
       "      <th>cast</th>\n",
       "      <th>num_of_cast</th>\n",
       "      <th>female</th>\n",
       "      <th>male</th>\n",
       "      <th>unknown_gen</th>\n",
       "    </tr>\n",
       "  </thead>\n",
       "  <tbody>\n",
       "    <tr>\n",
       "      <td>0</td>\n",
       "      <td>19995</td>\n",
       "      <td>[{\"cast_id\": 242, \"character\": \"Jake Sully\", \"...</td>\n",
       "      <td>83</td>\n",
       "      <td>12</td>\n",
       "      <td>20</td>\n",
       "      <td>51</td>\n",
       "    </tr>\n",
       "  </tbody>\n",
       "</table>\n",
       "</div>"
      ],
      "text/plain": [
       "   movie_id                                               cast  num_of_cast  \\\n",
       "0     19995  [{\"cast_id\": 242, \"character\": \"Jake Sully\", \"...           83   \n",
       "\n",
       "   female  male  unknown_gen  \n",
       "0      12    20           51  "
      ]
     },
     "execution_count": 42,
     "metadata": {},
     "output_type": "execute_result"
    }
   ],
   "source": [
    "#adding them to the copy dataframe\n",
    "columns = ['num_of_cast','female', 'male', 'unknown_gen']\n",
    "cred[columns[0]]=num_cast\n",
    "cred[columns[1]]=female\n",
    "cred[columns[2]]=male\n",
    "cred[columns[3]]=unknown\n",
    "cred.head(1)"
   ]
  },
  {
   "cell_type": "code",
   "execution_count": 43,
   "metadata": {},
   "outputs": [],
   "source": [
    "#drop the cast column now \n",
    "cred.drop(['cast'],axis=1,inplace=True)"
   ]
  },
  {
   "cell_type": "code",
   "execution_count": 44,
   "metadata": {},
   "outputs": [
    {
     "data": {
      "text/html": [
       "<div>\n",
       "<style scoped>\n",
       "    .dataframe tbody tr th:only-of-type {\n",
       "        vertical-align: middle;\n",
       "    }\n",
       "\n",
       "    .dataframe tbody tr th {\n",
       "        vertical-align: top;\n",
       "    }\n",
       "\n",
       "    .dataframe thead th {\n",
       "        text-align: right;\n",
       "    }\n",
       "</style>\n",
       "<table border=\"1\" class=\"dataframe\">\n",
       "  <thead>\n",
       "    <tr style=\"text-align: right;\">\n",
       "      <th></th>\n",
       "      <th>movie_id</th>\n",
       "      <th>num_of_cast</th>\n",
       "      <th>female</th>\n",
       "      <th>male</th>\n",
       "      <th>unknown_gen</th>\n",
       "    </tr>\n",
       "  </thead>\n",
       "  <tbody>\n",
       "    <tr>\n",
       "      <td>0</td>\n",
       "      <td>19995</td>\n",
       "      <td>83</td>\n",
       "      <td>12</td>\n",
       "      <td>20</td>\n",
       "      <td>51</td>\n",
       "    </tr>\n",
       "  </tbody>\n",
       "</table>\n",
       "</div>"
      ],
      "text/plain": [
       "   movie_id  num_of_cast  female  male  unknown_gen\n",
       "0     19995           83      12    20           51"
      ]
     },
     "execution_count": 44,
     "metadata": {},
     "output_type": "execute_result"
    }
   ],
   "source": [
    "cred.head(1)"
   ]
  },
  {
   "cell_type": "code",
   "execution_count": 45,
   "metadata": {},
   "outputs": [],
   "source": [
    "#finally merge it with movies data in df_combined dataframe\n",
    "df_combined = df_m.merge(cred, left_on='id', right_on='movie_id', how='inner')"
   ]
  },
  {
   "cell_type": "code",
   "execution_count": 46,
   "metadata": {},
   "outputs": [
    {
     "data": {
      "text/html": [
       "<div>\n",
       "<style scoped>\n",
       "    .dataframe tbody tr th:only-of-type {\n",
       "        vertical-align: middle;\n",
       "    }\n",
       "\n",
       "    .dataframe tbody tr th {\n",
       "        vertical-align: top;\n",
       "    }\n",
       "\n",
       "    .dataframe thead th {\n",
       "        text-align: right;\n",
       "    }\n",
       "</style>\n",
       "<table border=\"1\" class=\"dataframe\">\n",
       "  <thead>\n",
       "    <tr style=\"text-align: right;\">\n",
       "      <th></th>\n",
       "      <th>budget</th>\n",
       "      <th>genres</th>\n",
       "      <th>homepage</th>\n",
       "      <th>id</th>\n",
       "      <th>keywords</th>\n",
       "      <th>original_language</th>\n",
       "      <th>original_title</th>\n",
       "      <th>overview</th>\n",
       "      <th>popularity</th>\n",
       "      <th>production_companies</th>\n",
       "      <th>...</th>\n",
       "      <th>status</th>\n",
       "      <th>tagline</th>\n",
       "      <th>title</th>\n",
       "      <th>vote_average</th>\n",
       "      <th>vote_count</th>\n",
       "      <th>movie_id</th>\n",
       "      <th>num_of_cast</th>\n",
       "      <th>female</th>\n",
       "      <th>male</th>\n",
       "      <th>unknown_gen</th>\n",
       "    </tr>\n",
       "  </thead>\n",
       "  <tbody>\n",
       "    <tr>\n",
       "      <td>0</td>\n",
       "      <td>237000000</td>\n",
       "      <td>[{\"id\": 28, \"name\": \"Action\"}, {\"id\": 12, \"nam...</td>\n",
       "      <td>http://www.avatarmovie.com/</td>\n",
       "      <td>19995</td>\n",
       "      <td>[{\"id\": 1463, \"name\": \"culture clash\"}, {\"id\":...</td>\n",
       "      <td>en</td>\n",
       "      <td>Avatar</td>\n",
       "      <td>In the 22nd century, a paraplegic Marine is di...</td>\n",
       "      <td>150.437577</td>\n",
       "      <td>[{\"name\": \"Ingenious Film Partners\", \"id\": 289...</td>\n",
       "      <td>...</td>\n",
       "      <td>Released</td>\n",
       "      <td>Enter the World of Pandora.</td>\n",
       "      <td>Avatar</td>\n",
       "      <td>7.2</td>\n",
       "      <td>11800</td>\n",
       "      <td>19995</td>\n",
       "      <td>83</td>\n",
       "      <td>12</td>\n",
       "      <td>20</td>\n",
       "      <td>51</td>\n",
       "    </tr>\n",
       "    <tr>\n",
       "      <td>1</td>\n",
       "      <td>300000000</td>\n",
       "      <td>[{\"id\": 12, \"name\": \"Adventure\"}, {\"id\": 14, \"...</td>\n",
       "      <td>http://disney.go.com/disneypictures/pirates/</td>\n",
       "      <td>285</td>\n",
       "      <td>[{\"id\": 270, \"name\": \"ocean\"}, {\"id\": 726, \"na...</td>\n",
       "      <td>en</td>\n",
       "      <td>Pirates of the Caribbean: At World's End</td>\n",
       "      <td>Captain Barbossa, long believed to be dead, ha...</td>\n",
       "      <td>139.082615</td>\n",
       "      <td>[{\"name\": \"Walt Disney Pictures\", \"id\": 2}, {\"...</td>\n",
       "      <td>...</td>\n",
       "      <td>Released</td>\n",
       "      <td>At the end of the world, the adventure begins.</td>\n",
       "      <td>Pirates of the Caribbean: At World's End</td>\n",
       "      <td>6.9</td>\n",
       "      <td>4500</td>\n",
       "      <td>285</td>\n",
       "      <td>34</td>\n",
       "      <td>5</td>\n",
       "      <td>25</td>\n",
       "      <td>4</td>\n",
       "    </tr>\n",
       "  </tbody>\n",
       "</table>\n",
       "<p>2 rows × 25 columns</p>\n",
       "</div>"
      ],
      "text/plain": [
       "      budget                                             genres  \\\n",
       "0  237000000  [{\"id\": 28, \"name\": \"Action\"}, {\"id\": 12, \"nam...   \n",
       "1  300000000  [{\"id\": 12, \"name\": \"Adventure\"}, {\"id\": 14, \"...   \n",
       "\n",
       "                                       homepage     id  \\\n",
       "0                   http://www.avatarmovie.com/  19995   \n",
       "1  http://disney.go.com/disneypictures/pirates/    285   \n",
       "\n",
       "                                            keywords original_language  \\\n",
       "0  [{\"id\": 1463, \"name\": \"culture clash\"}, {\"id\":...                en   \n",
       "1  [{\"id\": 270, \"name\": \"ocean\"}, {\"id\": 726, \"na...                en   \n",
       "\n",
       "                             original_title  \\\n",
       "0                                    Avatar   \n",
       "1  Pirates of the Caribbean: At World's End   \n",
       "\n",
       "                                            overview  popularity  \\\n",
       "0  In the 22nd century, a paraplegic Marine is di...  150.437577   \n",
       "1  Captain Barbossa, long believed to be dead, ha...  139.082615   \n",
       "\n",
       "                                production_companies  ...    status  \\\n",
       "0  [{\"name\": \"Ingenious Film Partners\", \"id\": 289...  ...  Released   \n",
       "1  [{\"name\": \"Walt Disney Pictures\", \"id\": 2}, {\"...  ...  Released   \n",
       "\n",
       "                                          tagline  \\\n",
       "0                     Enter the World of Pandora.   \n",
       "1  At the end of the world, the adventure begins.   \n",
       "\n",
       "                                      title  vote_average vote_count movie_id  \\\n",
       "0                                    Avatar           7.2      11800    19995   \n",
       "1  Pirates of the Caribbean: At World's End           6.9       4500      285   \n",
       "\n",
       "  num_of_cast female  male  unknown_gen  \n",
       "0          83     12    20           51  \n",
       "1          34      5    25            4  \n",
       "\n",
       "[2 rows x 25 columns]"
      ]
     },
     "execution_count": 46,
     "metadata": {},
     "output_type": "execute_result"
    }
   ],
   "source": [
    "df_combined.head(2)"
   ]
  },
  {
   "cell_type": "markdown",
   "metadata": {},
   "source": [
    "<h5>see some information about combined dataframe before we start cleaning it</h5>"
   ]
  },
  {
   "cell_type": "code",
   "execution_count": 47,
   "metadata": {},
   "outputs": [
    {
     "data": {
      "text/plain": [
       "(4803, 25)"
      ]
     },
     "execution_count": 47,
     "metadata": {},
     "output_type": "execute_result"
    }
   ],
   "source": [
    "df_combined.shape"
   ]
  },
  {
   "cell_type": "code",
   "execution_count": 48,
   "metadata": {},
   "outputs": [
    {
     "name": "stdout",
     "output_type": "stream",
     "text": [
      "<class 'pandas.core.frame.DataFrame'>\n",
      "Int64Index: 4803 entries, 0 to 4802\n",
      "Data columns (total 25 columns):\n",
      "budget                  4803 non-null int64\n",
      "genres                  4803 non-null object\n",
      "homepage                1712 non-null object\n",
      "id                      4803 non-null int64\n",
      "keywords                4803 non-null object\n",
      "original_language       4803 non-null object\n",
      "original_title          4803 non-null object\n",
      "overview                4800 non-null object\n",
      "popularity              4803 non-null float64\n",
      "production_companies    4803 non-null object\n",
      "production_countries    4803 non-null object\n",
      "release_date            4802 non-null object\n",
      "revenue                 4803 non-null int64\n",
      "runtime                 4801 non-null float64\n",
      "spoken_languages        4803 non-null object\n",
      "status                  4803 non-null object\n",
      "tagline                 3959 non-null object\n",
      "title                   4803 non-null object\n",
      "vote_average            4803 non-null float64\n",
      "vote_count              4803 non-null int64\n",
      "movie_id                4803 non-null int64\n",
      "num_of_cast             4803 non-null int64\n",
      "female                  4803 non-null int64\n",
      "male                    4803 non-null int64\n",
      "unknown_gen             4803 non-null int64\n",
      "dtypes: float64(3), int64(9), object(13)\n",
      "memory usage: 975.6+ KB\n"
     ]
    }
   ],
   "source": [
    "df_combined.info()"
   ]
  },
  {
   "cell_type": "code",
   "execution_count": 49,
   "metadata": {},
   "outputs": [
    {
     "data": {
      "text/html": [
       "<div>\n",
       "<style scoped>\n",
       "    .dataframe tbody tr th:only-of-type {\n",
       "        vertical-align: middle;\n",
       "    }\n",
       "\n",
       "    .dataframe tbody tr th {\n",
       "        vertical-align: top;\n",
       "    }\n",
       "\n",
       "    .dataframe thead th {\n",
       "        text-align: right;\n",
       "    }\n",
       "</style>\n",
       "<table border=\"1\" class=\"dataframe\">\n",
       "  <thead>\n",
       "    <tr style=\"text-align: right;\">\n",
       "      <th></th>\n",
       "      <th>budget</th>\n",
       "      <th>id</th>\n",
       "      <th>popularity</th>\n",
       "      <th>revenue</th>\n",
       "      <th>runtime</th>\n",
       "      <th>vote_average</th>\n",
       "      <th>vote_count</th>\n",
       "      <th>movie_id</th>\n",
       "      <th>num_of_cast</th>\n",
       "      <th>female</th>\n",
       "      <th>male</th>\n",
       "      <th>unknown_gen</th>\n",
       "    </tr>\n",
       "  </thead>\n",
       "  <tbody>\n",
       "    <tr>\n",
       "      <td>count</td>\n",
       "      <td>4.803000e+03</td>\n",
       "      <td>4803.000000</td>\n",
       "      <td>4803.000000</td>\n",
       "      <td>4.803000e+03</td>\n",
       "      <td>4801.000000</td>\n",
       "      <td>4803.000000</td>\n",
       "      <td>4803.000000</td>\n",
       "      <td>4803.000000</td>\n",
       "      <td>4803.000000</td>\n",
       "      <td>4803.000000</td>\n",
       "      <td>4803.000000</td>\n",
       "      <td>4803.000000</td>\n",
       "    </tr>\n",
       "    <tr>\n",
       "      <td>mean</td>\n",
       "      <td>2.904504e+07</td>\n",
       "      <td>57165.484281</td>\n",
       "      <td>21.492301</td>\n",
       "      <td>8.226064e+07</td>\n",
       "      <td>106.875859</td>\n",
       "      <td>6.092172</td>\n",
       "      <td>690.217989</td>\n",
       "      <td>57165.484281</td>\n",
       "      <td>22.123048</td>\n",
       "      <td>5.031855</td>\n",
       "      <td>10.054341</td>\n",
       "      <td>7.036852</td>\n",
       "    </tr>\n",
       "    <tr>\n",
       "      <td>std</td>\n",
       "      <td>4.072239e+07</td>\n",
       "      <td>88694.614033</td>\n",
       "      <td>31.816650</td>\n",
       "      <td>1.628571e+08</td>\n",
       "      <td>22.611935</td>\n",
       "      <td>1.194612</td>\n",
       "      <td>1234.585891</td>\n",
       "      <td>88694.614033</td>\n",
       "      <td>19.582493</td>\n",
       "      <td>5.368746</td>\n",
       "      <td>7.942877</td>\n",
       "      <td>11.176134</td>\n",
       "    </tr>\n",
       "    <tr>\n",
       "      <td>min</td>\n",
       "      <td>0.000000e+00</td>\n",
       "      <td>5.000000</td>\n",
       "      <td>0.000000</td>\n",
       "      <td>0.000000e+00</td>\n",
       "      <td>0.000000</td>\n",
       "      <td>0.000000</td>\n",
       "      <td>0.000000</td>\n",
       "      <td>5.000000</td>\n",
       "      <td>0.000000</td>\n",
       "      <td>0.000000</td>\n",
       "      <td>0.000000</td>\n",
       "      <td>0.000000</td>\n",
       "    </tr>\n",
       "    <tr>\n",
       "      <td>25%</td>\n",
       "      <td>7.900000e+05</td>\n",
       "      <td>9014.500000</td>\n",
       "      <td>4.668070</td>\n",
       "      <td>0.000000e+00</td>\n",
       "      <td>94.000000</td>\n",
       "      <td>5.600000</td>\n",
       "      <td>54.000000</td>\n",
       "      <td>9014.500000</td>\n",
       "      <td>11.000000</td>\n",
       "      <td>2.000000</td>\n",
       "      <td>5.000000</td>\n",
       "      <td>1.000000</td>\n",
       "    </tr>\n",
       "    <tr>\n",
       "      <td>50%</td>\n",
       "      <td>1.500000e+07</td>\n",
       "      <td>14629.000000</td>\n",
       "      <td>12.921594</td>\n",
       "      <td>1.917000e+07</td>\n",
       "      <td>103.000000</td>\n",
       "      <td>6.200000</td>\n",
       "      <td>235.000000</td>\n",
       "      <td>14629.000000</td>\n",
       "      <td>16.000000</td>\n",
       "      <td>4.000000</td>\n",
       "      <td>8.000000</td>\n",
       "      <td>4.000000</td>\n",
       "    </tr>\n",
       "    <tr>\n",
       "      <td>75%</td>\n",
       "      <td>4.000000e+07</td>\n",
       "      <td>58610.500000</td>\n",
       "      <td>28.313505</td>\n",
       "      <td>9.291719e+07</td>\n",
       "      <td>118.000000</td>\n",
       "      <td>6.800000</td>\n",
       "      <td>737.000000</td>\n",
       "      <td>58610.500000</td>\n",
       "      <td>25.000000</td>\n",
       "      <td>6.000000</td>\n",
       "      <td>13.000000</td>\n",
       "      <td>8.000000</td>\n",
       "    </tr>\n",
       "    <tr>\n",
       "      <td>max</td>\n",
       "      <td>3.800000e+08</td>\n",
       "      <td>459488.000000</td>\n",
       "      <td>875.581305</td>\n",
       "      <td>2.787965e+09</td>\n",
       "      <td>338.000000</td>\n",
       "      <td>10.000000</td>\n",
       "      <td>13752.000000</td>\n",
       "      <td>459488.000000</td>\n",
       "      <td>224.000000</td>\n",
       "      <td>107.000000</td>\n",
       "      <td>88.000000</td>\n",
       "      <td>164.000000</td>\n",
       "    </tr>\n",
       "  </tbody>\n",
       "</table>\n",
       "</div>"
      ],
      "text/plain": [
       "             budget             id   popularity       revenue      runtime  \\\n",
       "count  4.803000e+03    4803.000000  4803.000000  4.803000e+03  4801.000000   \n",
       "mean   2.904504e+07   57165.484281    21.492301  8.226064e+07   106.875859   \n",
       "std    4.072239e+07   88694.614033    31.816650  1.628571e+08    22.611935   \n",
       "min    0.000000e+00       5.000000     0.000000  0.000000e+00     0.000000   \n",
       "25%    7.900000e+05    9014.500000     4.668070  0.000000e+00    94.000000   \n",
       "50%    1.500000e+07   14629.000000    12.921594  1.917000e+07   103.000000   \n",
       "75%    4.000000e+07   58610.500000    28.313505  9.291719e+07   118.000000   \n",
       "max    3.800000e+08  459488.000000   875.581305  2.787965e+09   338.000000   \n",
       "\n",
       "       vote_average    vote_count       movie_id  num_of_cast       female  \\\n",
       "count   4803.000000   4803.000000    4803.000000  4803.000000  4803.000000   \n",
       "mean       6.092172    690.217989   57165.484281    22.123048     5.031855   \n",
       "std        1.194612   1234.585891   88694.614033    19.582493     5.368746   \n",
       "min        0.000000      0.000000       5.000000     0.000000     0.000000   \n",
       "25%        5.600000     54.000000    9014.500000    11.000000     2.000000   \n",
       "50%        6.200000    235.000000   14629.000000    16.000000     4.000000   \n",
       "75%        6.800000    737.000000   58610.500000    25.000000     6.000000   \n",
       "max       10.000000  13752.000000  459488.000000   224.000000   107.000000   \n",
       "\n",
       "              male  unknown_gen  \n",
       "count  4803.000000  4803.000000  \n",
       "mean     10.054341     7.036852  \n",
       "std       7.942877    11.176134  \n",
       "min       0.000000     0.000000  \n",
       "25%       5.000000     1.000000  \n",
       "50%       8.000000     4.000000  \n",
       "75%      13.000000     8.000000  \n",
       "max      88.000000   164.000000  "
      ]
     },
     "execution_count": 49,
     "metadata": {},
     "output_type": "execute_result"
    }
   ],
   "source": [
    "df_combined.describe()"
   ]
  },
  {
   "cell_type": "markdown",
   "metadata": {},
   "source": [
    "<h3>what are we going to do to clean it:</h3>\n",
    "<p>first, we have to drop the unuseful columns[\"Title\",\"id\",\"movie_id\",\"overview\",\"hompage\"]<br>\n",
    "    second, we have to solve the json objects columns and get useful information and then drop them<br>\n",
    "    third, we have to solve the null value in columns<br>\n",
    "    fourth, convert to the appropirate data types for columns</p>"
   ]
  },
  {
   "cell_type": "code",
   "execution_count": 50,
   "metadata": {},
   "outputs": [
    {
     "data": {
      "text/plain": [
       "(4803, 25)"
      ]
     },
     "execution_count": 50,
     "metadata": {},
     "output_type": "execute_result"
    }
   ],
   "source": [
    "#copy dataframe to another so we can we go back if needed\n",
    "movie=df_combined.copy()\n",
    "movie.shape"
   ]
  },
  {
   "cell_type": "code",
   "execution_count": 51,
   "metadata": {},
   "outputs": [
    {
     "data": {
      "text/html": [
       "<div>\n",
       "<style scoped>\n",
       "    .dataframe tbody tr th:only-of-type {\n",
       "        vertical-align: middle;\n",
       "    }\n",
       "\n",
       "    .dataframe tbody tr th {\n",
       "        vertical-align: top;\n",
       "    }\n",
       "\n",
       "    .dataframe thead th {\n",
       "        text-align: right;\n",
       "    }\n",
       "</style>\n",
       "<table border=\"1\" class=\"dataframe\">\n",
       "  <thead>\n",
       "    <tr style=\"text-align: right;\">\n",
       "      <th></th>\n",
       "      <th>budget</th>\n",
       "      <th>genres</th>\n",
       "      <th>homepage</th>\n",
       "      <th>id</th>\n",
       "      <th>keywords</th>\n",
       "      <th>original_language</th>\n",
       "      <th>original_title</th>\n",
       "      <th>overview</th>\n",
       "      <th>popularity</th>\n",
       "      <th>production_companies</th>\n",
       "      <th>...</th>\n",
       "      <th>status</th>\n",
       "      <th>tagline</th>\n",
       "      <th>title</th>\n",
       "      <th>vote_average</th>\n",
       "      <th>vote_count</th>\n",
       "      <th>movie_id</th>\n",
       "      <th>num_of_cast</th>\n",
       "      <th>female</th>\n",
       "      <th>male</th>\n",
       "      <th>unknown_gen</th>\n",
       "    </tr>\n",
       "  </thead>\n",
       "  <tbody>\n",
       "    <tr>\n",
       "      <td>0</td>\n",
       "      <td>237000000</td>\n",
       "      <td>[{\"id\": 28, \"name\": \"Action\"}, {\"id\": 12, \"nam...</td>\n",
       "      <td>http://www.avatarmovie.com/</td>\n",
       "      <td>19995</td>\n",
       "      <td>[{\"id\": 1463, \"name\": \"culture clash\"}, {\"id\":...</td>\n",
       "      <td>en</td>\n",
       "      <td>Avatar</td>\n",
       "      <td>In the 22nd century, a paraplegic Marine is di...</td>\n",
       "      <td>150.437577</td>\n",
       "      <td>[{\"name\": \"Ingenious Film Partners\", \"id\": 289...</td>\n",
       "      <td>...</td>\n",
       "      <td>Released</td>\n",
       "      <td>Enter the World of Pandora.</td>\n",
       "      <td>Avatar</td>\n",
       "      <td>7.2</td>\n",
       "      <td>11800</td>\n",
       "      <td>19995</td>\n",
       "      <td>83</td>\n",
       "      <td>12</td>\n",
       "      <td>20</td>\n",
       "      <td>51</td>\n",
       "    </tr>\n",
       "  </tbody>\n",
       "</table>\n",
       "<p>1 rows × 25 columns</p>\n",
       "</div>"
      ],
      "text/plain": [
       "      budget                                             genres  \\\n",
       "0  237000000  [{\"id\": 28, \"name\": \"Action\"}, {\"id\": 12, \"nam...   \n",
       "\n",
       "                      homepage     id  \\\n",
       "0  http://www.avatarmovie.com/  19995   \n",
       "\n",
       "                                            keywords original_language  \\\n",
       "0  [{\"id\": 1463, \"name\": \"culture clash\"}, {\"id\":...                en   \n",
       "\n",
       "  original_title                                           overview  \\\n",
       "0         Avatar  In the 22nd century, a paraplegic Marine is di...   \n",
       "\n",
       "   popularity                               production_companies  ...  \\\n",
       "0  150.437577  [{\"name\": \"Ingenious Film Partners\", \"id\": 289...  ...   \n",
       "\n",
       "     status                      tagline   title  vote_average vote_count  \\\n",
       "0  Released  Enter the World of Pandora.  Avatar           7.2      11800   \n",
       "\n",
       "  movie_id num_of_cast female  male  unknown_gen  \n",
       "0    19995          83     12    20           51  \n",
       "\n",
       "[1 rows x 25 columns]"
      ]
     },
     "execution_count": 51,
     "metadata": {},
     "output_type": "execute_result"
    }
   ],
   "source": [
    "movie.head(1)"
   ]
  },
  {
   "cell_type": "code",
   "execution_count": 52,
   "metadata": {},
   "outputs": [
    {
     "data": {
      "text/plain": [
       "(4803, 20)"
      ]
     },
     "execution_count": 52,
     "metadata": {},
     "output_type": "execute_result"
    }
   ],
   "source": [
    "#drop unusfull columns\n",
    "movie.drop([\"title\",\"id\",\"movie_id\",\"overview\",\"homepage\"],axis=1,inplace=True)\n",
    "movie.shape"
   ]
  },
  {
   "cell_type": "code",
   "execution_count": 53,
   "metadata": {},
   "outputs": [],
   "source": [
    "#function to solve the number of data in json object\n",
    "def get_data_from_json_to_df(dataframe,column):\n",
    "    num_data_in_column=[]\n",
    "    for i in range(dataframe.shape[0]):\n",
    "        value=json.loads(dataframe[column][i])\n",
    "        num_data_in_column.append(len(value))\n",
    "    column_name=\"num_{}\".format(column)#to be added to dataframe\n",
    "    dataframe[column_name]=num_data_in_column    "
   ]
  },
  {
   "cell_type": "markdown",
   "metadata": {},
   "source": [
    "<h4>go through json objects columns </h4>\n",
    " <h6>get the number of keywords for each movie from json objects in keywords column</h6>"
   ]
  },
  {
   "cell_type": "code",
   "execution_count": 54,
   "metadata": {},
   "outputs": [],
   "source": [
    "#getting the num of key words\n",
    "#adding them to dataframe\n",
    "get_data_from_json_to_df(movie,'keywords')"
   ]
  },
  {
   "cell_type": "code",
   "execution_count": 55,
   "metadata": {},
   "outputs": [
    {
     "data": {
      "text/plain": [
       "'num_keywords'"
      ]
     },
     "execution_count": 55,
     "metadata": {},
     "output_type": "execute_result"
    }
   ],
   "source": [
    "#assuring it was added\n",
    "movie.columns[-1]"
   ]
  },
  {
   "cell_type": "markdown",
   "metadata": {},
   "source": [
    "<h6>get the number of spoken languages from json objects in spoken_languages column</h6>"
   ]
  },
  {
   "cell_type": "code",
   "execution_count": 56,
   "metadata": {},
   "outputs": [],
   "source": [
    "#getting the num of spoken languages\n",
    "#add them to dataframe\n",
    "get_data_from_json_to_df(movie,'spoken_languages')"
   ]
  },
  {
   "cell_type": "code",
   "execution_count": 57,
   "metadata": {},
   "outputs": [
    {
     "data": {
      "text/plain": [
       "'num_spoken_languages'"
      ]
     },
     "execution_count": 57,
     "metadata": {},
     "output_type": "execute_result"
    }
   ],
   "source": [
    "#assuring it was added\n",
    "movie.columns[-1]"
   ]
  },
  {
   "cell_type": "markdown",
   "metadata": {},
   "source": [
    "<h6>get the number of production countries from json objects in production_countries column</h6>"
   ]
  },
  {
   "cell_type": "code",
   "execution_count": 58,
   "metadata": {},
   "outputs": [],
   "source": [
    "#getting the num of production countries\n",
    "#add them to dataframe\n",
    "get_data_from_json_to_df(movie,'production_countries')"
   ]
  },
  {
   "cell_type": "code",
   "execution_count": 59,
   "metadata": {},
   "outputs": [
    {
     "data": {
      "text/plain": [
       "'num_production_countries'"
      ]
     },
     "execution_count": 59,
     "metadata": {},
     "output_type": "execute_result"
    }
   ],
   "source": [
    "#assuring it was added\n",
    "movie.columns[-1]"
   ]
  },
  {
   "cell_type": "markdown",
   "metadata": {},
   "source": [
    "<h6>get the number of production companies from json objects in production_companies column</h6>"
   ]
  },
  {
   "cell_type": "code",
   "execution_count": 60,
   "metadata": {},
   "outputs": [],
   "source": [
    "#getting the num of production companies\n",
    "#add them to dataframe\n",
    "get_data_from_json_to_df(movie,'production_companies')"
   ]
  },
  {
   "cell_type": "code",
   "execution_count": 61,
   "metadata": {},
   "outputs": [
    {
     "data": {
      "text/plain": [
       "'num_production_companies'"
      ]
     },
     "execution_count": 61,
     "metadata": {},
     "output_type": "execute_result"
    }
   ],
   "source": [
    "#assuring it was added\n",
    "movie.columns[-1]"
   ]
  },
  {
   "cell_type": "markdown",
   "metadata": {},
   "source": [
    "<h6>get the list of genres in json objects in genres column</h6>"
   ]
  },
  {
   "cell_type": "code",
   "execution_count": 62,
   "metadata": {},
   "outputs": [],
   "source": [
    "#getting the list of genres of each movie\n",
    "genres=[]\n",
    "for i in range(movie.shape[0]):\n",
    "    gen=json.loads(movie['genres'][i])\n",
    "    gen_list=[gen[i]['name'] for i in range(len(gen))]\n",
    "    genres.append(gen_list)"
   ]
  },
  {
   "cell_type": "code",
   "execution_count": 63,
   "metadata": {},
   "outputs": [],
   "source": [
    "# add it to the dataframe\n",
    "movie[\"genre_list\"]=genres"
   ]
  },
  {
   "cell_type": "code",
   "execution_count": 64,
   "metadata": {},
   "outputs": [
    {
     "data": {
      "text/plain": [
       "'genre_list'"
      ]
     },
     "execution_count": 64,
     "metadata": {},
     "output_type": "execute_result"
    }
   ],
   "source": [
    "# assuring it was added\n",
    "movie.columns[-1]"
   ]
  },
  {
   "cell_type": "markdown",
   "metadata": {},
   "source": [
    "<h4>now, drop the json objects columns</h4>"
   ]
  },
  {
   "cell_type": "code",
   "execution_count": 65,
   "metadata": {},
   "outputs": [
    {
     "data": {
      "text/plain": [
       "(4803, 25)"
      ]
     },
     "execution_count": 65,
     "metadata": {},
     "output_type": "execute_result"
    }
   ],
   "source": [
    "#the shape before dropping\n",
    "movie.shape"
   ]
  },
  {
   "cell_type": "code",
   "execution_count": 66,
   "metadata": {},
   "outputs": [],
   "source": [
    "#drop the columns\n",
    "movie.drop(['genres','production_companies','production_countries','keywords','spoken_languages'],axis=1,inplace=True)"
   ]
  },
  {
   "cell_type": "code",
   "execution_count": 67,
   "metadata": {},
   "outputs": [
    {
     "data": {
      "text/plain": [
       "(4803, 20)"
      ]
     },
     "execution_count": 67,
     "metadata": {},
     "output_type": "execute_result"
    }
   ],
   "source": [
    "#the shape after dropping\n",
    "movie.shape"
   ]
  },
  {
   "cell_type": "markdown",
   "metadata": {},
   "source": [
    "<h3> now , we solve the null values in columns</h3>"
   ]
  },
  {
   "cell_type": "code",
   "execution_count": 68,
   "metadata": {},
   "outputs": [
    {
     "name": "stdout",
     "output_type": "stream",
     "text": [
      "<class 'pandas.core.frame.DataFrame'>\n",
      "Int64Index: 4803 entries, 0 to 4802\n",
      "Data columns (total 20 columns):\n",
      "budget                      4803 non-null int64\n",
      "original_language           4803 non-null object\n",
      "original_title              4803 non-null object\n",
      "popularity                  4803 non-null float64\n",
      "release_date                4802 non-null object\n",
      "revenue                     4803 non-null int64\n",
      "runtime                     4801 non-null float64\n",
      "status                      4803 non-null object\n",
      "tagline                     3959 non-null object\n",
      "vote_average                4803 non-null float64\n",
      "vote_count                  4803 non-null int64\n",
      "num_of_cast                 4803 non-null int64\n",
      "female                      4803 non-null int64\n",
      "male                        4803 non-null int64\n",
      "unknown_gen                 4803 non-null int64\n",
      "num_keywords                4803 non-null int64\n",
      "num_spoken_languages        4803 non-null int64\n",
      "num_production_countries    4803 non-null int64\n",
      "num_production_companies    4803 non-null int64\n",
      "genre_list                  4803 non-null object\n",
      "dtypes: float64(3), int64(11), object(6)\n",
      "memory usage: 948.0+ KB\n"
     ]
    }
   ],
   "source": [
    "movie.info()"
   ]
  },
  {
   "cell_type": "markdown",
   "metadata": {},
   "source": [
    "<h6> solve the runtime column null values</h6>"
   ]
  },
  {
   "cell_type": "code",
   "execution_count": 69,
   "metadata": {},
   "outputs": [
    {
     "data": {
      "text/html": [
       "<div>\n",
       "<style scoped>\n",
       "    .dataframe tbody tr th:only-of-type {\n",
       "        vertical-align: middle;\n",
       "    }\n",
       "\n",
       "    .dataframe tbody tr th {\n",
       "        vertical-align: top;\n",
       "    }\n",
       "\n",
       "    .dataframe thead th {\n",
       "        text-align: right;\n",
       "    }\n",
       "</style>\n",
       "<table border=\"1\" class=\"dataframe\">\n",
       "  <thead>\n",
       "    <tr style=\"text-align: right;\">\n",
       "      <th></th>\n",
       "      <th>budget</th>\n",
       "      <th>genres</th>\n",
       "      <th>homepage</th>\n",
       "      <th>id</th>\n",
       "      <th>keywords</th>\n",
       "      <th>original_language</th>\n",
       "      <th>original_title</th>\n",
       "      <th>overview</th>\n",
       "      <th>popularity</th>\n",
       "      <th>production_companies</th>\n",
       "      <th>production_countries</th>\n",
       "      <th>release_date</th>\n",
       "      <th>revenue</th>\n",
       "      <th>runtime</th>\n",
       "      <th>spoken_languages</th>\n",
       "      <th>status</th>\n",
       "      <th>tagline</th>\n",
       "      <th>title</th>\n",
       "      <th>vote_average</th>\n",
       "      <th>vote_count</th>\n",
       "    </tr>\n",
       "  </thead>\n",
       "  <tbody>\n",
       "    <tr>\n",
       "      <td>2656</td>\n",
       "      <td>15000000</td>\n",
       "      <td>[{\"id\": 18, \"name\": \"Drama\"}]</td>\n",
       "      <td>NaN</td>\n",
       "      <td>370980</td>\n",
       "      <td>[{\"id\": 717, \"name\": \"pope\"}, {\"id\": 5565, \"na...</td>\n",
       "      <td>it</td>\n",
       "      <td>Chiamatemi Francesco - Il Papa della gente</td>\n",
       "      <td>NaN</td>\n",
       "      <td>0.738646</td>\n",
       "      <td>[{\"name\": \"Taodue Film\", \"id\": 45724}]</td>\n",
       "      <td>[{\"iso_3166_1\": \"IT\", \"name\": \"Italy\"}]</td>\n",
       "      <td>2015-12-03</td>\n",
       "      <td>0</td>\n",
       "      <td>NaN</td>\n",
       "      <td>[{\"iso_639_1\": \"es\", \"name\": \"Espa\\u00f1ol\"}]</td>\n",
       "      <td>Released</td>\n",
       "      <td>NaN</td>\n",
       "      <td>Chiamatemi Francesco - Il Papa della gente</td>\n",
       "      <td>7.3</td>\n",
       "      <td>12</td>\n",
       "    </tr>\n",
       "    <tr>\n",
       "      <td>4140</td>\n",
       "      <td>2</td>\n",
       "      <td>[{\"id\": 99, \"name\": \"Documentary\"}]</td>\n",
       "      <td>NaN</td>\n",
       "      <td>459488</td>\n",
       "      <td>[{\"id\": 6027, \"name\": \"music\"}, {\"id\": 225822,...</td>\n",
       "      <td>en</td>\n",
       "      <td>To Be Frank, Sinatra at 100</td>\n",
       "      <td>NaN</td>\n",
       "      <td>0.050625</td>\n",
       "      <td>[{\"name\": \"Eyeline Entertainment\", \"id\": 60343}]</td>\n",
       "      <td>[{\"iso_3166_1\": \"GB\", \"name\": \"United Kingdom\"}]</td>\n",
       "      <td>2015-12-12</td>\n",
       "      <td>0</td>\n",
       "      <td>NaN</td>\n",
       "      <td>[]</td>\n",
       "      <td>Released</td>\n",
       "      <td>NaN</td>\n",
       "      <td>To Be Frank, Sinatra at 100</td>\n",
       "      <td>0.0</td>\n",
       "      <td>0</td>\n",
       "    </tr>\n",
       "  </tbody>\n",
       "</table>\n",
       "</div>"
      ],
      "text/plain": [
       "        budget                               genres homepage      id  \\\n",
       "2656  15000000        [{\"id\": 18, \"name\": \"Drama\"}]      NaN  370980   \n",
       "4140         2  [{\"id\": 99, \"name\": \"Documentary\"}]      NaN  459488   \n",
       "\n",
       "                                               keywords original_language  \\\n",
       "2656  [{\"id\": 717, \"name\": \"pope\"}, {\"id\": 5565, \"na...                it   \n",
       "4140  [{\"id\": 6027, \"name\": \"music\"}, {\"id\": 225822,...                en   \n",
       "\n",
       "                                  original_title overview  popularity  \\\n",
       "2656  Chiamatemi Francesco - Il Papa della gente      NaN    0.738646   \n",
       "4140                 To Be Frank, Sinatra at 100      NaN    0.050625   \n",
       "\n",
       "                                  production_companies  \\\n",
       "2656            [{\"name\": \"Taodue Film\", \"id\": 45724}]   \n",
       "4140  [{\"name\": \"Eyeline Entertainment\", \"id\": 60343}]   \n",
       "\n",
       "                                  production_countries release_date  revenue  \\\n",
       "2656           [{\"iso_3166_1\": \"IT\", \"name\": \"Italy\"}]   2015-12-03        0   \n",
       "4140  [{\"iso_3166_1\": \"GB\", \"name\": \"United Kingdom\"}]   2015-12-12        0   \n",
       "\n",
       "      runtime                               spoken_languages    status  \\\n",
       "2656      NaN  [{\"iso_639_1\": \"es\", \"name\": \"Espa\\u00f1ol\"}]  Released   \n",
       "4140      NaN                                             []  Released   \n",
       "\n",
       "     tagline                                       title  vote_average  \\\n",
       "2656     NaN  Chiamatemi Francesco - Il Papa della gente           7.3   \n",
       "4140     NaN                 To Be Frank, Sinatra at 100           0.0   \n",
       "\n",
       "      vote_count  \n",
       "2656          12  \n",
       "4140           0  "
      ]
     },
     "execution_count": 69,
     "metadata": {},
     "output_type": "execute_result"
    }
   ],
   "source": [
    "#see what the other data for null runtime value look like \n",
    "df_m[df_m[\"runtime\"].isnull()]"
   ]
  },
  {
   "cell_type": "markdown",
   "metadata": {},
   "source": [
    "<p> after seeing what they look like , i think it will not hinder any thing if we drop them <br>\n",
    "    as the most important column \"revenue\" in both of them equales zero</p>"
   ]
  },
  {
   "cell_type": "code",
   "execution_count": 70,
   "metadata": {},
   "outputs": [],
   "source": [
    "#indexs of null value\n",
    "indexes_run=movie[movie[\"runtime\"].isnull()].index"
   ]
  },
  {
   "cell_type": "code",
   "execution_count": 71,
   "metadata": {},
   "outputs": [],
   "source": [
    "#drop the row with runtime null value in it \n",
    "movie.drop(indexes_run,axis=0,inplace=True)"
   ]
  },
  {
   "cell_type": "code",
   "execution_count": 72,
   "metadata": {},
   "outputs": [
    {
     "name": "stdout",
     "output_type": "stream",
     "text": [
      "<class 'pandas.core.frame.DataFrame'>\n",
      "Int64Index: 4801 entries, 0 to 4802\n",
      "Data columns (total 20 columns):\n",
      "budget                      4801 non-null int64\n",
      "original_language           4801 non-null object\n",
      "original_title              4801 non-null object\n",
      "popularity                  4801 non-null float64\n",
      "release_date                4800 non-null object\n",
      "revenue                     4801 non-null int64\n",
      "runtime                     4801 non-null float64\n",
      "status                      4801 non-null object\n",
      "tagline                     3959 non-null object\n",
      "vote_average                4801 non-null float64\n",
      "vote_count                  4801 non-null int64\n",
      "num_of_cast                 4801 non-null int64\n",
      "female                      4801 non-null int64\n",
      "male                        4801 non-null int64\n",
      "unknown_gen                 4801 non-null int64\n",
      "num_keywords                4801 non-null int64\n",
      "num_spoken_languages        4801 non-null int64\n",
      "num_production_countries    4801 non-null int64\n",
      "num_production_companies    4801 non-null int64\n",
      "genre_list                  4801 non-null object\n",
      "dtypes: float64(3), int64(11), object(6)\n",
      "memory usage: 787.7+ KB\n"
     ]
    }
   ],
   "source": [
    "# info after dropping\n",
    "movie.info()"
   ]
  },
  {
   "cell_type": "markdown",
   "metadata": {},
   "source": [
    "<h4>solve the release_date null values</h4>"
   ]
  },
  {
   "cell_type": "code",
   "execution_count": 73,
   "metadata": {},
   "outputs": [
    {
     "data": {
      "text/html": [
       "<div>\n",
       "<style scoped>\n",
       "    .dataframe tbody tr th:only-of-type {\n",
       "        vertical-align: middle;\n",
       "    }\n",
       "\n",
       "    .dataframe tbody tr th {\n",
       "        vertical-align: top;\n",
       "    }\n",
       "\n",
       "    .dataframe thead th {\n",
       "        text-align: right;\n",
       "    }\n",
       "</style>\n",
       "<table border=\"1\" class=\"dataframe\">\n",
       "  <thead>\n",
       "    <tr style=\"text-align: right;\">\n",
       "      <th></th>\n",
       "      <th>budget</th>\n",
       "      <th>genres</th>\n",
       "      <th>homepage</th>\n",
       "      <th>id</th>\n",
       "      <th>keywords</th>\n",
       "      <th>original_language</th>\n",
       "      <th>original_title</th>\n",
       "      <th>overview</th>\n",
       "      <th>popularity</th>\n",
       "      <th>production_companies</th>\n",
       "      <th>production_countries</th>\n",
       "      <th>release_date</th>\n",
       "      <th>revenue</th>\n",
       "      <th>runtime</th>\n",
       "      <th>spoken_languages</th>\n",
       "      <th>status</th>\n",
       "      <th>tagline</th>\n",
       "      <th>title</th>\n",
       "      <th>vote_average</th>\n",
       "      <th>vote_count</th>\n",
       "    </tr>\n",
       "  </thead>\n",
       "  <tbody>\n",
       "    <tr>\n",
       "      <td>4553</td>\n",
       "      <td>0</td>\n",
       "      <td>[]</td>\n",
       "      <td>NaN</td>\n",
       "      <td>380097</td>\n",
       "      <td>[]</td>\n",
       "      <td>en</td>\n",
       "      <td>America Is Still the Place</td>\n",
       "      <td>1971 post civil rights San Francisco seemed li...</td>\n",
       "      <td>0.0</td>\n",
       "      <td>[]</td>\n",
       "      <td>[]</td>\n",
       "      <td>NaN</td>\n",
       "      <td>0</td>\n",
       "      <td>0.0</td>\n",
       "      <td>[]</td>\n",
       "      <td>Released</td>\n",
       "      <td>NaN</td>\n",
       "      <td>America Is Still the Place</td>\n",
       "      <td>0.0</td>\n",
       "      <td>0</td>\n",
       "    </tr>\n",
       "  </tbody>\n",
       "</table>\n",
       "</div>"
      ],
      "text/plain": [
       "      budget genres homepage      id keywords original_language  \\\n",
       "4553       0     []      NaN  380097       []                en   \n",
       "\n",
       "                  original_title  \\\n",
       "4553  America Is Still the Place   \n",
       "\n",
       "                                               overview  popularity  \\\n",
       "4553  1971 post civil rights San Francisco seemed li...         0.0   \n",
       "\n",
       "     production_companies production_countries release_date  revenue  runtime  \\\n",
       "4553                   []                   []          NaN        0      0.0   \n",
       "\n",
       "     spoken_languages    status tagline                       title  \\\n",
       "4553               []  Released     NaN  America Is Still the Place   \n",
       "\n",
       "      vote_average  vote_count  \n",
       "4553           0.0           0  "
      ]
     },
     "execution_count": 73,
     "metadata": {},
     "output_type": "execute_result"
    }
   ],
   "source": [
    "#see what the other data for null runtime value look like \n",
    "df_m[df_m[\"release_date\"].isnull()]"
   ]
  },
  {
   "cell_type": "markdown",
   "metadata": {},
   "source": [
    "<p> after seeing what they look like , i think  also it will not hinder any thing as well as runtime <br>\n",
    "    as the most important column \"revenue\" in both of them equales zero</p>"
   ]
  },
  {
   "cell_type": "code",
   "execution_count": 74,
   "metadata": {},
   "outputs": [],
   "source": [
    "#indexs of null value\n",
    "indexes_date=movie[movie[\"release_date\"].isnull()].index"
   ]
  },
  {
   "cell_type": "code",
   "execution_count": 75,
   "metadata": {},
   "outputs": [],
   "source": [
    "#drop the row with release_date null value in it \n",
    "movie.drop(indexes_date,axis=0,inplace=True)"
   ]
  },
  {
   "cell_type": "code",
   "execution_count": 76,
   "metadata": {},
   "outputs": [
    {
     "name": "stdout",
     "output_type": "stream",
     "text": [
      "<class 'pandas.core.frame.DataFrame'>\n",
      "Int64Index: 4800 entries, 0 to 4802\n",
      "Data columns (total 20 columns):\n",
      "budget                      4800 non-null int64\n",
      "original_language           4800 non-null object\n",
      "original_title              4800 non-null object\n",
      "popularity                  4800 non-null float64\n",
      "release_date                4800 non-null object\n",
      "revenue                     4800 non-null int64\n",
      "runtime                     4800 non-null float64\n",
      "status                      4800 non-null object\n",
      "tagline                     3959 non-null object\n",
      "vote_average                4800 non-null float64\n",
      "vote_count                  4800 non-null int64\n",
      "num_of_cast                 4800 non-null int64\n",
      "female                      4800 non-null int64\n",
      "male                        4800 non-null int64\n",
      "unknown_gen                 4800 non-null int64\n",
      "num_keywords                4800 non-null int64\n",
      "num_spoken_languages        4800 non-null int64\n",
      "num_production_countries    4800 non-null int64\n",
      "num_production_companies    4800 non-null int64\n",
      "genre_list                  4800 non-null object\n",
      "dtypes: float64(3), int64(11), object(6)\n",
      "memory usage: 787.5+ KB\n"
     ]
    }
   ],
   "source": [
    "# info after dropping\n",
    "movie.info()"
   ]
  },
  {
   "cell_type": "markdown",
   "metadata": {},
   "source": [
    "<h4>last of null values in tagline column</h4>\n",
    "<p> so i decided to get the number of words in every tag line<br> and fill the null value with the mean of it</p> "
   ]
  },
  {
   "cell_type": "code",
   "execution_count": 77,
   "metadata": {},
   "outputs": [],
   "source": [
    "#getting the num of words in tagline \n",
    "movie['num_tag_words']=movie['tagline'].str.count(\" \")+1"
   ]
  },
  {
   "cell_type": "code",
   "execution_count": 78,
   "metadata": {},
   "outputs": [],
   "source": [
    "#fill the null values with the mean of num of words\n",
    "mean_tag_word=int(movie['num_tag_words'].mean())\n",
    "movie['num_tag_words'].fillna(mean_tag_word,inplace=True)"
   ]
  },
  {
   "cell_type": "code",
   "execution_count": 79,
   "metadata": {},
   "outputs": [],
   "source": [
    "#drop the tagline column \n",
    "movie.drop(['tagline'],axis=1,inplace=True)"
   ]
  },
  {
   "cell_type": "code",
   "execution_count": 80,
   "metadata": {},
   "outputs": [
    {
     "name": "stdout",
     "output_type": "stream",
     "text": [
      "<class 'pandas.core.frame.DataFrame'>\n",
      "Int64Index: 4800 entries, 0 to 4802\n",
      "Data columns (total 20 columns):\n",
      "budget                      4800 non-null int64\n",
      "original_language           4800 non-null object\n",
      "original_title              4800 non-null object\n",
      "popularity                  4800 non-null float64\n",
      "release_date                4800 non-null object\n",
      "revenue                     4800 non-null int64\n",
      "runtime                     4800 non-null float64\n",
      "status                      4800 non-null object\n",
      "vote_average                4800 non-null float64\n",
      "vote_count                  4800 non-null int64\n",
      "num_of_cast                 4800 non-null int64\n",
      "female                      4800 non-null int64\n",
      "male                        4800 non-null int64\n",
      "unknown_gen                 4800 non-null int64\n",
      "num_keywords                4800 non-null int64\n",
      "num_spoken_languages        4800 non-null int64\n",
      "num_production_countries    4800 non-null int64\n",
      "num_production_companies    4800 non-null int64\n",
      "genre_list                  4800 non-null object\n",
      "num_tag_words               4800 non-null float64\n",
      "dtypes: float64(4), int64(11), object(5)\n",
      "memory usage: 787.5+ KB\n"
     ]
    }
   ],
   "source": [
    "# info after dropping\n",
    "movie.info()"
   ]
  },
  {
   "cell_type": "markdown",
   "metadata": {},
   "source": [
    "<h6>solve some values in status column</h6>"
   ]
  },
  {
   "cell_type": "code",
   "execution_count": 81,
   "metadata": {},
   "outputs": [
    {
     "data": {
      "text/plain": [
       "Released           4795\n",
       "Rumored               5\n",
       "Post Production       3\n",
       "Name: status, dtype: int64"
      ]
     },
     "execution_count": 81,
     "metadata": {},
     "output_type": "execute_result"
    }
   ],
   "source": [
    "#the number of repeatation of a value in \"status\" column\n",
    "df_m['status'].value_counts()"
   ]
  },
  {
   "cell_type": "markdown",
   "metadata": {},
   "source": [
    "<p>as you see above there are 8 values of status of movies which is un wanted<br>\n",
    "as it is describe that the movie is not released so we better drop them </p>"
   ]
  },
  {
   "cell_type": "code",
   "execution_count": 82,
   "metadata": {},
   "outputs": [],
   "source": [
    "#the index of unwanted values\n",
    "row_status=movie.query('status in [\"Rumored\",\"Post Production\"]').index"
   ]
  },
  {
   "cell_type": "code",
   "execution_count": 83,
   "metadata": {},
   "outputs": [],
   "source": [
    "#drop them\n",
    "movie.drop(row_status,axis=0,inplace=True)"
   ]
  },
  {
   "cell_type": "markdown",
   "metadata": {},
   "source": [
    "<p>now we released that the status column has only released value <br>so it un usefull column ,we better drop it</p>"
   ]
  },
  {
   "cell_type": "code",
   "execution_count": 84,
   "metadata": {},
   "outputs": [],
   "source": [
    "#drop the status column\n",
    "movie.drop(['status'],axis=1,inplace=True)"
   ]
  },
  {
   "cell_type": "code",
   "execution_count": 85,
   "metadata": {},
   "outputs": [
    {
     "name": "stdout",
     "output_type": "stream",
     "text": [
      "<class 'pandas.core.frame.DataFrame'>\n",
      "Int64Index: 4792 entries, 0 to 4802\n",
      "Data columns (total 19 columns):\n",
      "budget                      4792 non-null int64\n",
      "original_language           4792 non-null object\n",
      "original_title              4792 non-null object\n",
      "popularity                  4792 non-null float64\n",
      "release_date                4792 non-null object\n",
      "revenue                     4792 non-null int64\n",
      "runtime                     4792 non-null float64\n",
      "vote_average                4792 non-null float64\n",
      "vote_count                  4792 non-null int64\n",
      "num_of_cast                 4792 non-null int64\n",
      "female                      4792 non-null int64\n",
      "male                        4792 non-null int64\n",
      "unknown_gen                 4792 non-null int64\n",
      "num_keywords                4792 non-null int64\n",
      "num_spoken_languages        4792 non-null int64\n",
      "num_production_countries    4792 non-null int64\n",
      "num_production_companies    4792 non-null int64\n",
      "genre_list                  4792 non-null object\n",
      "num_tag_words               4792 non-null float64\n",
      "dtypes: float64(4), int64(11), object(4)\n",
      "memory usage: 748.8+ KB\n"
     ]
    }
   ],
   "source": [
    "#we see the info after dropping\n",
    "movie.info()"
   ]
  },
  {
   "cell_type": "markdown",
   "metadata": {},
   "source": [
    "<h4>convert to appropirate data types</h4> "
   ]
  },
  {
   "cell_type": "code",
   "execution_count": 86,
   "metadata": {},
   "outputs": [],
   "source": [
    "#change data type of release_date to date_time\n",
    "movie['release_date']=pd.to_datetime(movie['release_date'])"
   ]
  },
  {
   "cell_type": "code",
   "execution_count": 87,
   "metadata": {},
   "outputs": [],
   "source": [
    "#extract the year only from date\n",
    "# add it to dataframe\n",
    "movie['year']=movie['release_date'].dt.year"
   ]
  },
  {
   "cell_type": "code",
   "execution_count": 88,
   "metadata": {},
   "outputs": [],
   "source": [
    "#drop release_date\n",
    "movie.drop(['release_date'],axis=1,inplace=True)"
   ]
  },
  {
   "cell_type": "code",
   "execution_count": 89,
   "metadata": {},
   "outputs": [
    {
     "name": "stdout",
     "output_type": "stream",
     "text": [
      "<class 'pandas.core.frame.DataFrame'>\n",
      "Int64Index: 4792 entries, 0 to 4802\n",
      "Data columns (total 19 columns):\n",
      "budget                      4792 non-null int64\n",
      "original_language           4792 non-null object\n",
      "original_title              4792 non-null object\n",
      "popularity                  4792 non-null float64\n",
      "revenue                     4792 non-null int64\n",
      "runtime                     4792 non-null float64\n",
      "vote_average                4792 non-null float64\n",
      "vote_count                  4792 non-null int64\n",
      "num_of_cast                 4792 non-null int64\n",
      "female                      4792 non-null int64\n",
      "male                        4792 non-null int64\n",
      "unknown_gen                 4792 non-null int64\n",
      "num_keywords                4792 non-null int64\n",
      "num_spoken_languages        4792 non-null int64\n",
      "num_production_countries    4792 non-null int64\n",
      "num_production_companies    4792 non-null int64\n",
      "genre_list                  4792 non-null object\n",
      "num_tag_words               4792 non-null float64\n",
      "year                        4792 non-null int64\n",
      "dtypes: float64(4), int64(12), object(3)\n",
      "memory usage: 748.8+ KB\n"
     ]
    }
   ],
   "source": [
    "movie.info()"
   ]
  },
  {
   "cell_type": "code",
   "execution_count": 90,
   "metadata": {},
   "outputs": [],
   "source": [
    "#reset the index for dataframe after the cleaning\n",
    "movie.reset_index(drop=True, inplace=True)"
   ]
  },
  {
   "cell_type": "markdown",
   "metadata": {},
   "source": [
    "<a id='eda'></a>\n",
    "## Exploratory Data Analysis\n"
   ]
  },
  {
   "cell_type": "code",
   "execution_count": 91,
   "metadata": {},
   "outputs": [
    {
     "data": {
      "text/plain": [
       "array([[<matplotlib.axes._subplots.AxesSubplot object at 0x000001CFE607AF48>,\n",
       "        <matplotlib.axes._subplots.AxesSubplot object at 0x000001CFE631C1C8>,\n",
       "        <matplotlib.axes._subplots.AxesSubplot object at 0x000001CFE6352888>,\n",
       "        <matplotlib.axes._subplots.AxesSubplot object at 0x000001CFE6389148>],\n",
       "       [<matplotlib.axes._subplots.AxesSubplot object at 0x000001CFE63BD788>,\n",
       "        <matplotlib.axes._subplots.AxesSubplot object at 0x000001CFE63F5888>,\n",
       "        <matplotlib.axes._subplots.AxesSubplot object at 0x000001CFE642B988>,\n",
       "        <matplotlib.axes._subplots.AxesSubplot object at 0x000001CFE6464AC8>],\n",
       "       [<matplotlib.axes._subplots.AxesSubplot object at 0x000001CFE64706C8>,\n",
       "        <matplotlib.axes._subplots.AxesSubplot object at 0x000001CFE64A8808>,\n",
       "        <matplotlib.axes._subplots.AxesSubplot object at 0x000001CFE650CD88>,\n",
       "        <matplotlib.axes._subplots.AxesSubplot object at 0x000001CFE6544E88>],\n",
       "       [<matplotlib.axes._subplots.AxesSubplot object at 0x000001CFE657DF88>,\n",
       "        <matplotlib.axes._subplots.AxesSubplot object at 0x000001CFE65B9108>,\n",
       "        <matplotlib.axes._subplots.AxesSubplot object at 0x000001CFE65F2108>,\n",
       "        <matplotlib.axes._subplots.AxesSubplot object at 0x000001CFE6629208>]],\n",
       "      dtype=object)"
      ]
     },
     "execution_count": 91,
     "metadata": {},
     "output_type": "execute_result"
    },
    {
     "data": {
      "image/png": "[encoded data removed]",
      "text/plain": [
       "<Figure size 1440x1440 with 16 Axes>"
      ]
     },
     "metadata": {
      "needs_background": "light"
     },
     "output_type": "display_data"
    }
   ],
   "source": [
    "movie.hist(figsize=(20,20))"
   ]
  },
  {
   "cell_type": "markdown",
   "metadata": {},
   "source": [
    "### Research Question 1:Which genres are most popular from year to year?"
   ]
  },
  {
   "cell_type": "code",
   "execution_count": 92,
   "metadata": {},
   "outputs": [
    {
     "data": {
      "text/plain": [
       "2009    246\n",
       "2014    238\n",
       "2006    235\n",
       "2013    231\n",
       "2008    227\n",
       "       ... \n",
       "2017      1\n",
       "1930      1\n",
       "1934      1\n",
       "1932      1\n",
       "1916      1\n",
       "Name: year, Length: 90, dtype: int64"
      ]
     },
     "execution_count": 92,
     "metadata": {},
     "output_type": "execute_result"
    }
   ],
   "source": [
    "# get the number of movies in year\n",
    "movie['year'].value_counts()"
   ]
  },
  {
   "cell_type": "markdown",
   "metadata": {},
   "source": [
    "<p>year 2009 is the largest year that have the most movies by 246 movie</p>"
   ]
  },
  {
   "cell_type": "code",
   "execution_count": 93,
   "metadata": {},
   "outputs": [],
   "source": [
    "#getting the list of year\n",
    "year=movie['year'].value_counts().index"
   ]
  },
  {
   "cell_type": "code",
   "execution_count": 94,
   "metadata": {},
   "outputs": [],
   "source": [
    "#get important list in genres over year\n",
    "#identify those lists\n",
    "dic_year_genre={} #dictionary has each year with the genres and thier numbers for each year\n",
    "max_genre_year=[] #the genre that is the most popular in every year\n",
    "max_genre_year_value=[] # the number describe the repetation of every popular genre\n",
    "g_year=[]  # the list of years"
   ]
  },
  {
   "cell_type": "code",
   "execution_count": 95,
   "metadata": {},
   "outputs": [],
   "source": [
    "for y in year :\n",
    "    dic_genre={}\n",
    "    g_year.append(y)\n",
    "    df_genre=movie.query('year==@y')\n",
    "    indexs=df_genre.index\n",
    "    for i in indexs:\n",
    "        genre=df_genre['genre_list'][i]\n",
    "        for j in range(len(genre)):\n",
    "            if genre[j] in dic_genre:\n",
    "                dic_genre[genre[j]]+=1\n",
    "            else:\n",
    "                dic_genre[genre[j]]=1\n",
    "    max_genre_year.append(max(dic_genre,key=dic_genre.get))\n",
    "    max_genre_year_value.append(dic_genre[max(dic_genre,key=dic_genre.get)])\n",
    "    dic_year_genre[y]=dic_genre"
   ]
  },
  {
   "cell_type": "code",
   "execution_count": 96,
   "metadata": {},
   "outputs": [],
   "source": [
    "genre_year=[g_year,max_genre_year,max_genre_year_value]\n",
    "genre_year=np.array(genre_year)\n",
    "genre_year=genre_year.transpose()"
   ]
  },
  {
   "cell_type": "code",
   "execution_count": 97,
   "metadata": {},
   "outputs": [],
   "source": [
    "#creating dataframe contining the array made \n",
    "genre_year_df=pd.DataFrame(genre_year,columns=['year','max_genre_year','max_genre_year_value'])"
   ]
  },
  {
   "cell_type": "code",
   "execution_count": 98,
   "metadata": {},
   "outputs": [
    {
     "data": {
      "text/html": [
       "<div>\n",
       "<style scoped>\n",
       "    .dataframe tbody tr th:only-of-type {\n",
       "        vertical-align: middle;\n",
       "    }\n",
       "\n",
       "    .dataframe tbody tr th {\n",
       "        vertical-align: top;\n",
       "    }\n",
       "\n",
       "    .dataframe thead th {\n",
       "        text-align: right;\n",
       "    }\n",
       "</style>\n",
       "<table border=\"1\" class=\"dataframe\">\n",
       "  <thead>\n",
       "    <tr style=\"text-align: right;\">\n",
       "      <th></th>\n",
       "      <th>year</th>\n",
       "      <th>max_genre_year</th>\n",
       "      <th>max_genre_year_value</th>\n",
       "    </tr>\n",
       "  </thead>\n",
       "  <tbody>\n",
       "    <tr>\n",
       "      <td>0</td>\n",
       "      <td>2009</td>\n",
       "      <td>Drama</td>\n",
       "      <td>121</td>\n",
       "    </tr>\n",
       "    <tr>\n",
       "      <td>1</td>\n",
       "      <td>2014</td>\n",
       "      <td>Drama</td>\n",
       "      <td>110</td>\n",
       "    </tr>\n",
       "    <tr>\n",
       "      <td>2</td>\n",
       "      <td>2006</td>\n",
       "      <td>Drama</td>\n",
       "      <td>132</td>\n",
       "    </tr>\n",
       "    <tr>\n",
       "      <td>3</td>\n",
       "      <td>2013</td>\n",
       "      <td>Drama</td>\n",
       "      <td>110</td>\n",
       "    </tr>\n",
       "    <tr>\n",
       "      <td>4</td>\n",
       "      <td>2008</td>\n",
       "      <td>Drama</td>\n",
       "      <td>106</td>\n",
       "    </tr>\n",
       "  </tbody>\n",
       "</table>\n",
       "</div>"
      ],
      "text/plain": [
       "   year max_genre_year max_genre_year_value\n",
       "0  2009          Drama                  121\n",
       "1  2014          Drama                  110\n",
       "2  2006          Drama                  132\n",
       "3  2013          Drama                  110\n",
       "4  2008          Drama                  106"
      ]
     },
     "execution_count": 98,
     "metadata": {},
     "output_type": "execute_result"
    }
   ],
   "source": [
    "genre_year_df.head()"
   ]
  },
  {
   "cell_type": "markdown",
   "metadata": {},
   "source": [
    "## visualize the data in genre_year_df"
   ]
  },
  {
   "cell_type": "code",
   "execution_count": 99,
   "metadata": {},
   "outputs": [
    {
     "data": {
      "image/png": "[encoded data removed]",
      "text/plain": [
       "<Figure size 720x576 with 1 Axes>"
      ]
     },
     "metadata": {
      "needs_background": "light"
     },
     "output_type": "display_data"
    }
   ],
   "source": [
    "#plot the max_genre_year by year\n",
    "plt.subplots(figsize=(10, 8))\n",
    "plt.scatter(g_year,genre_year_df['max_genre_year'])\n",
    "plt.title('popular_genre per year')\n",
    "plt.xlabel('year')\n",
    "plt.ylabel('popular_genre');"
   ]
  },
  {
   "cell_type": "markdown",
   "metadata": {},
   "source": [
    "<h4>the previous plot shows that the most popular genre is the drame genre over the years</h4>"
   ]
  },
  {
   "cell_type": "code",
   "execution_count": 100,
   "metadata": {},
   "outputs": [],
   "source": [
    "#getting the number of times a genre was the most popular\n",
    "genres={}\n",
    "for i in range(len(genre_year_df)):\n",
    "    if genre_year_df['max_genre_year'][i] in genres:\n",
    "        genres[genre_year_df['max_genre_year'][i]]+=1\n",
    "    else:\n",
    "         genres[genre_year_df['max_genre_year'][i]]=1"
   ]
  },
  {
   "cell_type": "code",
   "execution_count": 101,
   "metadata": {},
   "outputs": [
    {
     "data": {
      "text/plain": [
       "{'Drama': 62,\n",
       " 'Comedy': 12,\n",
       " 'Action': 9,\n",
       " 'Science Fiction': 1,\n",
       " 'Adventure': 2,\n",
       " 'Family': 1,\n",
       " 'Music': 1,\n",
       " 'Romance': 1,\n",
       " 'Western': 1}"
      ]
     },
     "execution_count": 101,
     "metadata": {},
     "output_type": "execute_result"
    }
   ],
   "source": [
    "genres"
   ]
  },
  {
   "cell_type": "code",
   "execution_count": 102,
   "metadata": {},
   "outputs": [
    {
     "data": {
      "text/plain": [
       "(90, 3)"
      ]
     },
     "execution_count": 102,
     "metadata": {},
     "output_type": "execute_result"
    }
   ],
   "source": [
    "#the shape of genre_year_df\n",
    "genre_year_df.shape"
   ]
  },
  {
   "cell_type": "code",
   "execution_count": 103,
   "metadata": {},
   "outputs": [
    {
     "data": {
      "image/png": "[encoded data removed]",
      "text/plain": [
       "<Figure size 720x576 with 1 Axes>"
      ]
     },
     "metadata": {
      "needs_background": "light"
     },
     "output_type": "display_data"
    }
   ],
   "source": [
    "plt.subplots(figsize=(10, 8))\n",
    "plt.bar(genres.keys(),genres.values())\n",
    "plt.title('number of time genre was the most popular per genre')\n",
    "plt.xlabel('genres')\n",
    "plt.ylabel('number of time genre was the most popular');"
   ]
  },
  {
   "cell_type": "markdown",
   "metadata": {},
   "source": [
    "<h6> shows that the drama genre was the most popular genre more than 60 time among 90 year</h6> \n",
    "<p>that mean that the precentage of drama genre was 66.67 %</p>"
   ]
  },
  {
   "cell_type": "markdown",
   "metadata": {},
   "source": [
    "### Research Question 2:What kinds of properties are associated with movies that have high revenues?</h6>"
   ]
  },
  {
   "cell_type": "markdown",
   "metadata": {},
   "source": [
    "<h5>visualize the amount of revenue per year</h5>"
   ]
  },
  {
   "cell_type": "code",
   "execution_count": 104,
   "metadata": {},
   "outputs": [],
   "source": [
    "#get the sum of revenue every year\n",
    "year_revenue=movie.groupby('year')['revenue'].sum()\n",
    "year=year_revenue.index\n",
    "amount_revenue=[year_revenue[year[i]] for i in range(len(year))]"
   ]
  },
  {
   "cell_type": "code",
   "execution_count": 105,
   "metadata": {},
   "outputs": [
    {
     "data": {
      "image/png": "[encoded data removed]",
      "text/plain": [
       "<Figure size 720x576 with 1 Axes>"
      ]
     },
     "metadata": {
      "needs_background": "light"
     },
     "output_type": "display_data"
    }
   ],
   "source": [
    "plt.subplots(figsize=(10, 8))\n",
    "plt.bar(year,amount_revenue)\n",
    "plt.title('the amount of revenue per year')\n",
    "plt.xlim(1980)\n",
    "plt.xlabel('year')\n",
    "plt.ylabel('amount_revenue');"
   ]
  },
  {
   "cell_type": "markdown",
   "metadata": {},
   "source": [
    "<h6>previous plot shows that the amount of revenue each year increase</h6>\n",
    "<p>be aware that it may decrease a little in some years for some unknown reasons</p>"
   ]
  },
  {
   "cell_type": "markdown",
   "metadata": {},
   "source": [
    "<h5>visualize the amount of vote_count per year</h5>"
   ]
  },
  {
   "cell_type": "code",
   "execution_count": 106,
   "metadata": {},
   "outputs": [],
   "source": [
    "#vote_count per year\n",
    "vote=movie.groupby('year')['vote_count'].sum()"
   ]
  },
  {
   "cell_type": "code",
   "execution_count": 107,
   "metadata": {},
   "outputs": [
    {
     "data": {
      "image/png": "[encoded data removed]",
      "text/plain": [
       "<Figure size 720x576 with 1 Axes>"
      ]
     },
     "metadata": {
      "needs_background": "light"
     },
     "output_type": "display_data"
    }
   ],
   "source": [
    "plt.subplots(figsize=(10, 8))\n",
    "plt.bar(year,vote)\n",
    "plt.title('amount_vote per year')\n",
    "plt.xlim(1980)\n",
    "plt.xlabel('year')\n",
    "plt.ylabel('amount_vote');"
   ]
  },
  {
   "cell_type": "markdown",
   "metadata": {},
   "source": [
    "#### it shows that the amount of vote over the years also incease  "
   ]
  },
  {
   "cell_type": "markdown",
   "metadata": {},
   "source": [
    "### visualize the amount of vote and amount of revenue"
   ]
  },
  {
   "cell_type": "code",
   "execution_count": 108,
   "metadata": {},
   "outputs": [
    {
     "data": {
      "image/png": "[encoded data removed]",
      "text/plain": [
       "<Figure size 720x576 with 1 Axes>"
      ]
     },
     "metadata": {
      "needs_background": "light"
     },
     "output_type": "display_data"
    }
   ],
   "source": [
    "plt.subplots(figsize=(10, 8))\n",
    "plt.scatter(vote,amount_revenue)\n",
    "plt.title('amount_revenue of year per amount_vote ')\n",
    "plt.ylabel('revenue')\n",
    "plt.xlabel('vote_count');"
   ]
  },
  {
   "cell_type": "markdown",
   "metadata": {},
   "source": [
    "#### it shows that may be the amount of revenue is affected by the amount of the vote\n",
    "<p> that when the amount of vote increase per year it also make the revenue increase</p>"
   ]
  },
  {
   "cell_type": "markdown",
   "metadata": {},
   "source": [
    "<h2>visualize the revenue per the vote average</h2>"
   ]
  },
  {
   "cell_type": "code",
   "execution_count": 109,
   "metadata": {},
   "outputs": [
    {
     "data": {
      "image/png": "[encoded data removed]",
      "text/plain": [
       "<Figure size 720x576 with 1 Axes>"
      ]
     },
     "metadata": {
      "needs_background": "light"
     },
     "output_type": "display_data"
    }
   ],
   "source": [
    "plt.subplots(figsize=(10, 8))\n",
    "plt.scatter(movie['vote_average'],movie['revenue'])\n",
    "plt.title('revenue per vote_average ')\n",
    "plt.ylim(10000,1000000000)\n",
    "plt.ylabel('revenue')\n",
    "plt.xlabel('vote_average');"
   ]
  },
  {
   "cell_type": "markdown",
   "metadata": {},
   "source": [
    "#### it shows that the vote_average doesn't affect the revenue \n",
    "<p>as it shows a high vote but with low revenue and low vote with high revenue</p>"
   ]
  },
  {
   "cell_type": "markdown",
   "metadata": {},
   "source": [
    "### visualize the revenue per the num of tagline words"
   ]
  },
  {
   "cell_type": "code",
   "execution_count": 110,
   "metadata": {},
   "outputs": [
    {
     "data": {
      "image/png": "[encoded data removed]",
      "text/plain": [
       "<Figure size 720x576 with 1 Axes>"
      ]
     },
     "metadata": {
      "needs_background": "light"
     },
     "output_type": "display_data"
    }
   ],
   "source": [
    "plt.subplots(figsize=(10, 8))\n",
    "plt.scatter(movie['num_tag_words'],movie['revenue'])\n",
    "plt.title('revenue per num of tagline words ')\n",
    "plt.ylim(10000,1000000000)\n",
    "plt.ylabel('revenue')\n",
    "plt.xlabel('number of tagline words');"
   ]
  },
  {
   "cell_type": "markdown",
   "metadata": {},
   "source": [
    "#### it shows that the higher the number of tagline words get the lower the revenue it gets"
   ]
  },
  {
   "cell_type": "markdown",
   "metadata": {},
   "source": [
    "## visualize the revenue per popularity"
   ]
  },
  {
   "cell_type": "code",
   "execution_count": 111,
   "metadata": {},
   "outputs": [
    {
     "data": {
      "image/png": "[encoded data removed]",
      "text/plain": [
       "<Figure size 720x576 with 1 Axes>"
      ]
     },
     "metadata": {
      "needs_background": "light"
     },
     "output_type": "display_data"
    }
   ],
   "source": [
    "plt.subplots(figsize=(10, 8))\n",
    "plt.scatter(movie['popularity'],movie['revenue'])\n",
    "plt.title('revenue by popularity ')\n",
    "plt.ylabel('revenue')\n",
    "plt.xlabel('popularity');"
   ]
  },
  {
   "cell_type": "markdown",
   "metadata": {},
   "source": [
    "#### it shows that popularity doen't affect the revenue"
   ]
  },
  {
   "cell_type": "markdown",
   "metadata": {},
   "source": [
    "### visualize revenue per budget"
   ]
  },
  {
   "cell_type": "code",
   "execution_count": 112,
   "metadata": {},
   "outputs": [
    {
     "data": {
      "image/png": "[encoded data removed]",
      "text/plain": [
       "<Figure size 720x576 with 1 Axes>"
      ]
     },
     "metadata": {
      "needs_background": "light"
     },
     "output_type": "display_data"
    }
   ],
   "source": [
    "plt.subplots(figsize=(10, 8))\n",
    "plt.scatter(movie['budget'],movie['revenue'])\n",
    "plt.title('revenue per budget')\n",
    "plt.ylim(10000,1000000000)\n",
    "plt.xlim(0,1000000000)\n",
    "plt.ylabel('revenue')\n",
    "plt.xlabel('budget');"
   ]
  },
  {
   "cell_type": "markdown",
   "metadata": {},
   "source": [
    "#### budet doen't affect the revenue"
   ]
  },
  {
   "cell_type": "markdown",
   "metadata": {},
   "source": [
    "### visualize the revenue per the the num of key words"
   ]
  },
  {
   "cell_type": "code",
   "execution_count": 113,
   "metadata": {},
   "outputs": [
    {
     "data": {
      "image/png": "[encoded data removed]",
      "text/plain": [
       "<Figure size 720x576 with 1 Axes>"
      ]
     },
     "metadata": {
      "needs_background": "light"
     },
     "output_type": "display_data"
    }
   ],
   "source": [
    "plt.subplots(figsize=(10, 8))\n",
    "plt.scatter(movie['num_keywords'],movie['revenue'])\n",
    "plt.title('revenue per num of keywords ')\n",
    "plt.ylim(10000,1000000000)\n",
    "plt.ylabel('revenue')\n",
    "plt.xlabel('num_keywords');"
   ]
  },
  {
   "cell_type": "markdown",
   "metadata": {},
   "source": [
    "#### the smaller the number of key words the larger the revenue"
   ]
  },
  {
   "cell_type": "markdown",
   "metadata": {},
   "source": [
    "### visualize the revenue per the number of production companies "
   ]
  },
  {
   "cell_type": "code",
   "execution_count": 117,
   "metadata": {},
   "outputs": [],
   "source": [
    "#some important data\n",
    "total_revenue=movie.groupby('num_production_companies')['revenue'].sum()\n",
    "num_prod_comp=total_revenue.index\n",
    "num_comp_revenue=[total_revenue[num_prod_comp[i]] for i in range(len(num_prod_comp))]"
   ]
  },
  {
   "cell_type": "code",
   "execution_count": 118,
   "metadata": {},
   "outputs": [
    {
     "data": {
      "image/png": "[encoded data removed]",
      "text/plain": [
       "<Figure size 720x576 with 1 Axes>"
      ]
     },
     "metadata": {
      "needs_background": "light"
     },
     "output_type": "display_data"
    }
   ],
   "source": [
    "plt.subplots(figsize=(10, 8))\n",
    "plt.scatter(movie['num_production_companies'],movie['revenue'])\n",
    "plt.title('revenue per number of production_companies ')\n",
    "#plt.ylim(10000,1000000000)\n",
    "plt.ylabel('revenue')\n",
    "plt.xlabel('num_production_companies');"
   ]
  },
  {
   "cell_type": "markdown",
   "metadata": {},
   "source": [
    "#### the larger the number of production companies the greater the revenue may decrease"
   ]
  },
  {
   "cell_type": "markdown",
   "metadata": {},
   "source": [
    "### visualize the revenue per the number of countries"
   ]
  },
  {
   "cell_type": "code",
   "execution_count": 120,
   "metadata": {},
   "outputs": [
    {
     "data": {
      "image/png": "[encoded data removed]",
      "text/plain": [
       "<Figure size 720x576 with 1 Axes>"
      ]
     },
     "metadata": {
      "needs_background": "light"
     },
     "output_type": "display_data"
    }
   ],
   "source": [
    "plt.subplots(figsize=(10, 8))\n",
    "plt.scatter(movie['num_production_countries'],movie['revenue'])\n",
    "plt.title('revenue by num_production_countries ')\n",
    "#plt.ylim(10000,1000000000)\n",
    "plt.ylabel('revenue')\n",
    "plt.xlabel('num_production_countries');"
   ]
  },
  {
   "cell_type": "markdown",
   "metadata": {},
   "source": [
    "#### the larger the number of production countries the greater the revenue may decrease"
   ]
  },
  {
   "cell_type": "markdown",
   "metadata": {},
   "source": [
    "### visualize the revenue per number of cast "
   ]
  },
  {
   "cell_type": "code",
   "execution_count": 121,
   "metadata": {},
   "outputs": [
    {
     "data": {
      "image/png": "[encoded data removed]",
      "text/plain": [
       "<Figure size 720x576 with 1 Axes>"
      ]
     },
     "metadata": {
      "needs_background": "light"
     },
     "output_type": "display_data"
    }
   ],
   "source": [
    "plt.subplots(figsize=(10, 8))\n",
    "plt.scatter(movie['num_of_cast'],movie['revenue'])\n",
    "plt.title('revenue per number of cast ')\n",
    "#plt.ylim(10000,1000000000)\n",
    "plt.ylabel('revenue')\n",
    "plt.xlabel('num_cast');"
   ]
  },
  {
   "cell_type": "markdown",
   "metadata": {},
   "source": [
    "### visualize the revenue per number of female cast "
   ]
  },
  {
   "cell_type": "code",
   "execution_count": 122,
   "metadata": {},
   "outputs": [
    {
     "data": {
      "image/png": "[encoded data removed]",
      "text/plain": [
       "<Figure size 720x576 with 1 Axes>"
      ]
     },
     "metadata": {
      "needs_background": "light"
     },
     "output_type": "display_data"
    }
   ],
   "source": [
    "plt.subplots(figsize=(10, 8))\n",
    "plt.scatter(movie['female'],movie['revenue'])\n",
    "plt.title('revenue per female ')\n",
    "#plt.ylim(10000,1000000000)\n",
    "plt.ylabel('revenue')\n",
    "plt.xlabel('num_female');"
   ]
  },
  {
   "cell_type": "markdown",
   "metadata": {},
   "source": [
    "### visualize the revenue per number of male cast "
   ]
  },
  {
   "cell_type": "code",
   "execution_count": 123,
   "metadata": {},
   "outputs": [
    {
     "data": {
      "image/png": "[encoded data removed]",
      "text/plain": [
       "<Figure size 720x576 with 1 Axes>"
      ]
     },
     "metadata": {
      "needs_background": "light"
     },
     "output_type": "display_data"
    }
   ],
   "source": [
    "plt.subplots(figsize=(10, 8))\n",
    "plt.scatter(movie['male'],movie['revenue'])\n",
    "plt.title('revenue per male ')\n",
    "#plt.ylim(10000,1000000000)\n",
    "plt.ylabel('revenue')\n",
    "plt.xlabel('num_male');"
   ]
  },
  {
   "cell_type": "markdown",
   "metadata": {},
   "source": [
    "#### the previous two plots show that the particition of female is important in any movie to raise the revenue"
   ]
  },
  {
   "cell_type": "markdown",
   "metadata": {},
   "source": [
    "### visualize revenue per spoken_languages"
   ]
  },
  {
   "cell_type": "code",
   "execution_count": 124,
   "metadata": {},
   "outputs": [
    {
     "data": {
      "image/png": "[encoded data removed]",
      "text/plain": [
       "<Figure size 720x576 with 1 Axes>"
      ]
     },
     "metadata": {
      "needs_background": "light"
     },
     "output_type": "display_data"
    }
   ],
   "source": [
    "plt.subplots(figsize=(10, 8))\n",
    "plt.scatter(movie['num_spoken_languages'],movie['revenue'])\n",
    "plt.title('revenue per num_spoken_languages')\n",
    "#plt.ylim(10000,1000000000)\n",
    "plt.ylabel('revenue')\n",
    "plt.xlabel('num_spoken_languages');"
   ]
  },
  {
   "cell_type": "markdown",
   "metadata": {},
   "source": [
    "#### it shows that the movie better spoke one laguage"
   ]
  },
  {
   "cell_type": "markdown",
   "metadata": {},
   "source": [
    "<a id='conclusions'></a>\n",
    "## Conclusions"
   ]
  },
  {
   "cell_type": "markdown",
   "metadata": {},
   "source": [
    "### Question1: Which genres are most popular from year to year?"
   ]
  },
  {
   "cell_type": "markdown",
   "metadata": {},
   "source": [
    "##### we found that the most popular genre is drama genre "
   ]
  },
  {
   "cell_type": "markdown",
   "metadata": {},
   "source": [
    "### Question 2:What kinds of properties are associated with movies that have high revenues?"
   ]
  },
  {
   "cell_type": "markdown",
   "metadata": {},
   "source": [
    "<p>i think that that the properties are <br>\n",
    "[high vote_count,balanced(female,male) number of cast <br>\n",
    "    smaller num_prod_con,smaller num_prod_comp,mean of num_tag_words,<br>\n",
    "    better be a year which the total revenue be high ,better be one or maximum three num_spoken_lang\n",
    "    <br>,genre_list beter be of drama genre]</p>"
   ]
  },
  {
   "cell_type": "markdown",
   "metadata": {},
   "source": [
    "### visualize the popularity over the years"
   ]
  },
  {
   "cell_type": "code",
   "execution_count": 125,
   "metadata": {},
   "outputs": [
    {
     "data": {
      "image/png": "[encoded data removed]",
      "text/plain": [
       "<Figure size 720x576 with 1 Axes>"
      ]
     },
     "metadata": {
      "needs_background": "light"
     },
     "output_type": "display_data"
    }
   ],
   "source": [
    "plt.subplots(figsize=(10, 8))\n",
    "plt.scatter(movie['year'],movie['popularity'])\n",
    "plt.title('popularity per year ')\n",
    "plt.ylabel('popularity')\n",
    "plt.xlabel('year');"
   ]
  },
  {
   "cell_type": "markdown",
   "metadata": {},
   "source": [
    "### visualize the number of movies over the years"
   ]
  },
  {
   "cell_type": "code",
   "execution_count": 126,
   "metadata": {},
   "outputs": [],
   "source": [
    "number_of_movies=movie.groupby('year').count()\n",
    "num_movies_per_year=number_of_movies[\"revenue\"]### to get the number of movies every year"
   ]
  },
  {
   "cell_type": "code",
   "execution_count": 127,
   "metadata": {},
   "outputs": [
    {
     "data": {
      "image/png": "[encoded data removed]",
      "text/plain": [
       "<Figure size 720x576 with 1 Axes>"
      ]
     },
     "metadata": {
      "needs_background": "light"
     },
     "output_type": "display_data"
    }
   ],
   "source": [
    "plt.subplots(figsize=(10, 8))\n",
    "plt.bar(year,num_movies_per_year)\n",
    "plt.title('the num_movies per year')\n",
    "plt.xlabel('year')\n",
    "plt.ylabel('num_movies_per_year');"
   ]
  },
  {
   "cell_type": "markdown",
   "metadata": {},
   "source": [
    "#### the previous two plots show that there may be a relation between the popularity and the number of movies over the years"
   ]
  },
  {
   "cell_type": "markdown",
   "metadata": {},
   "source": [
    "### visualize the price of movie per  vote\n"
   ]
  },
  {
   "cell_type": "code",
   "execution_count": 128,
   "metadata": {},
   "outputs": [
    {
     "data": {
      "image/png": "[encoded data removed]",
      "text/plain": [
       "<Figure size 720x576 with 1 Axes>"
      ]
     },
     "metadata": {
      "needs_background": "light"
     },
     "output_type": "display_data"
    }
   ],
   "source": [
    "plt.subplots(figsize=(10, 8))\n",
    "plt.scatter(movie['vote_average'],movie['budget'])\n",
    "\n",
    "plt.title('budget per vote')\n",
    "plt.ylabel('budget')\n",
    "plt.xlabel('vote');"
   ]
  },
  {
   "cell_type": "code",
   "execution_count": 129,
   "metadata": {},
   "outputs": [],
   "source": [
    "# the most expensive prices more than 75% \n",
    "max_price=movie['budget'].describe()['75%']\n",
    "most_price_indexs=movie.query('budget>@max_price').index\n",
    "most_price_rate=movie['vote_average'][most_price_indexs]\n",
    "most_price=movie['budget'][most_price_indexs]"
   ]
  },
  {
   "cell_type": "code",
   "execution_count": 130,
   "metadata": {},
   "outputs": [
    {
     "data": {
      "image/png": "[encoded data removed]",
      "text/plain": [
       "<Figure size 720x576 with 1 Axes>"
      ]
     },
     "metadata": {
      "needs_background": "light"
     },
     "output_type": "display_data"
    }
   ],
   "source": [
    "plt.subplots(figsize=(10, 8))\n",
    "plt.bar(most_price_rate,most_price,width=0.1)\n",
    "plt.title('budgets of most expensive movies per rate ')\n",
    "plt.ylabel('most_price')\n",
    "plt.xlabel('most_price_rate');"
   ]
  },
  {
   "cell_type": "code",
   "execution_count": 131,
   "metadata": {},
   "outputs": [],
   "source": [
    "#least expensive movies\n",
    "min_price=movie['budget'].describe()['25%']\n",
    "least_price_indexs=movie.query('budget<@min_price').index\n",
    "least_price_rate=movie['vote_average'][least_price_indexs]\n",
    "least_price=movie['budget'][least_price_indexs]"
   ]
  },
  {
   "cell_type": "code",
   "execution_count": 132,
   "metadata": {},
   "outputs": [
    {
     "data": {
      "image/png": "[encoded data removed]",
      "text/plain": [
       "<Figure size 720x576 with 1 Axes>"
      ]
     },
     "metadata": {
      "needs_background": "light"
     },
     "output_type": "display_data"
    }
   ],
   "source": [
    "plt.subplots(figsize=(10, 8))\n",
    "plt.bar(least_price_rate,least_price,width=0.01)\n",
    "plt.title('budgets of least expensive movies per rate')\n",
    "plt.ylabel('least_price')\n",
    "plt.xlabel('least_price_rate');"
   ]
  },
  {
   "cell_type": "markdown",
   "metadata": {},
   "source": [
    "#### it seems like that the smaller the budget the greater the chance that the rate is bad\n",
    "###### the larger the budget the greater chance to get high rate"
   ]
  },
  {
   "cell_type": "markdown",
   "metadata": {},
   "source": [
    "# Limitations"
   ]
  },
  {
   "cell_type": "markdown",
   "metadata": {},
   "source": [
    "#### dropping missing values in revenue"
   ]
  },
  {
   "cell_type": "code",
   "execution_count": 133,
   "metadata": {},
   "outputs": [
    {
     "data": {
      "text/plain": [
       "1417"
      ]
     },
     "execution_count": 133,
     "metadata": {},
     "output_type": "execute_result"
    }
   ],
   "source": [
    "#number of rows that have revenue == 0\n",
    "len(movie.query('revenue==0').index)"
   ]
  },
  {
   "cell_type": "code",
   "execution_count": 134,
   "metadata": {},
   "outputs": [],
   "source": [
    "#dropping the rows\n",
    "revenue_index_0=movie.query('revenue==0').index\n",
    "movie_revenue_0=movie.drop(revenue_index_0,axis=0)"
   ]
  },
  {
   "cell_type": "code",
   "execution_count": 135,
   "metadata": {},
   "outputs": [
    {
     "data": {
      "text/plain": [
       "<matplotlib.axes._subplots.AxesSubplot at 0x1cfe8e1b0c8>"
      ]
     },
     "execution_count": 135,
     "metadata": {},
     "output_type": "execute_result"
    },
    {
     "data": {
      "image/png": "[encoded data removed]",
      "text/plain": [
       "<Figure size 288x288 with 1 Axes>"
      ]
     },
     "metadata": {
      "needs_background": "light"
     },
     "output_type": "display_data"
    }
   ],
   "source": [
    "#see what happens to revenue column after that\n",
    "movie_revenue_0['revenue'].hist(figsize=(4,4),bins=100, xlabelsize=10, ylabelsize=10)"
   ]
  },
  {
   "cell_type": "code",
   "execution_count": 136,
   "metadata": {},
   "outputs": [
    {
     "data": {
      "text/plain": [
       "<matplotlib.axes._subplots.AxesSubplot at 0x1cfeb314548>"
      ]
     },
     "execution_count": 136,
     "metadata": {},
     "output_type": "execute_result"
    },
    {
     "data": {
      "image/png": "[encoded data removed]",
      "text/plain": [
       "<Figure size 288x288 with 1 Axes>"
      ]
     },
     "metadata": {
      "needs_background": "light"
     },
     "output_type": "display_data"
    }
   ],
   "source": [
    "#see the default data\n",
    "movie['revenue'].hist(figsize=(4,4),bins=100, xlabelsize=10, ylabelsize=10)"
   ]
  },
  {
   "cell_type": "code",
   "execution_count": 137,
   "metadata": {},
   "outputs": [
    {
     "data": {
      "text/plain": [
       "count    4.792000e+03\n",
       "mean     8.244929e+07\n",
       "std      1.629963e+08\n",
       "min      0.000000e+00\n",
       "25%      0.000000e+00\n",
       "50%      1.928273e+07\n",
       "75%      9.325544e+07\n",
       "max      2.787965e+09\n",
       "Name: revenue, dtype: float64"
      ]
     },
     "execution_count": 137,
     "metadata": {},
     "output_type": "execute_result"
    }
   ],
   "source": [
    "movie['revenue'].describe()"
   ]
  },
  {
   "cell_type": "code",
   "execution_count": 138,
   "metadata": {},
   "outputs": [
    {
     "data": {
      "text/plain": [
       "count    3.375000e+03\n",
       "mean     1.170658e+08\n",
       "std      1.834994e+08\n",
       "min      5.000000e+00\n",
       "25%      1.536924e+07\n",
       "50%      5.180119e+07\n",
       "75%      1.401684e+08\n",
       "max      2.787965e+09\n",
       "Name: revenue, dtype: float64"
      ]
     },
     "execution_count": 138,
     "metadata": {},
     "output_type": "execute_result"
    }
   ],
   "source": [
    "movie_revenue_0['revenue'].describe()"
   ]
  },
  {
   "cell_type": "markdown",
   "metadata": {},
   "source": [
    "#### it seems that the mean of revenue and std increased to the right"
   ]
  },
  {
   "cell_type": "markdown",
   "metadata": {},
   "source": [
    "#### it seems like that removing the rows that has revenue =0 made the data more skewed to the right"
   ]
  },
  {
   "cell_type": "markdown",
   "metadata": {},
   "source": [
    "\n",
    "## Submitting your Project "
   ]
  },
  {
   "cell_type": "code",
   "execution_count": null,
   "metadata": {},
   "outputs": [],
   "source": [
    "from subprocess import call\n",
    "call(['python', '-m', 'nbconvert', 'Investigate_a_Dataset.ipynb'])"
   ]
  }
 ],
 "metadata": {
  "kernelspec": {
   "display_name": "Python 3",
   "language": "python",
   "name": "python3"
  },
  "language_info": {
   "codemirror_mode": {
    "name": "ipython",
    "version": 3
   },
   "file_extension": ".py",
   "mimetype": "text/x-python",
   "name": "python",
   "nbconvert_exporter": "python",
   "pygments_lexer": "ipython3",
   "version": "3.7.4"
  }
 },
 "nbformat": 4,
 "nbformat_minor": 2
}
